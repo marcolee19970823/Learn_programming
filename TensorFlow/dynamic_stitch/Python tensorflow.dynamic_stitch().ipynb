{
 "cells": [
  {
   "cell_type": "markdown",
   "id": "fb3f2930",
   "metadata": {},
   "source": [
    "**def dynamic_stitch(indices, data, name=None):**\n",
    "\n",
    "  Args:\n",
    "  \n",
    "    indices: A list of at least 1 `Tensor` objects with type `int32`.\n",
    "    它是具有至少1个张量且每个张量具有dtype int32的张量的列表\n",
    "    \n",
    "    data: A list with the same length as `indices` of `Tensor` objects with the same type.\n",
    "    它是具有与索引相同长度的张量的列表\n",
    "    \n",
    "    name: A name for the operation (optional).\n",
    "\n",
    "  Returns:\n",
    "  \n",
    "    A `Tensor`. Has the same type as `data`."
   ]
  },
  {
   "cell_type": "markdown",
   "id": "7d12db48",
   "metadata": {},
   "source": [
    "## Example 1"
   ]
  },
  {
   "cell_type": "code",
   "execution_count": 1,
   "id": "9d04b04e",
   "metadata": {},
   "outputs": [],
   "source": [
    "import tensorflow as tf \n",
    "from time import time"
   ]
  },
  {
   "cell_type": "code",
   "execution_count": 2,
   "id": "037767a1",
   "metadata": {},
   "outputs": [],
   "source": [
    "indices = [[0, 1, 5], [2, 4, 3, 6]] \n",
    "data = [[1, 2, 3], [4, 5, 6, 7]] "
   ]
  },
  {
   "cell_type": "code",
   "execution_count": 3,
   "id": "115327a2",
   "metadata": {},
   "outputs": [
    {
     "data": {
      "text/plain": [
       "[[0, 1, 5], [2, 4, 3, 6]]"
      ]
     },
     "execution_count": 3,
     "metadata": {},
     "output_type": "execute_result"
    }
   ],
   "source": [
    "indices"
   ]
  },
  {
   "cell_type": "code",
   "execution_count": 4,
   "id": "cca1fbf9",
   "metadata": {},
   "outputs": [
    {
     "data": {
      "text/plain": [
       "[[1, 2, 3], [4, 5, 6, 7]]"
      ]
     },
     "execution_count": 4,
     "metadata": {},
     "output_type": "execute_result"
    }
   ],
   "source": [
    "data"
   ]
  },
  {
   "cell_type": "code",
   "execution_count": 5,
   "id": "368da666",
   "metadata": {},
   "outputs": [
    {
     "name": "stdout",
     "output_type": "stream",
     "text": [
      "Elapsed time:  48.60 s\n",
      "x: [1 2 4 6 5 3 7]\n",
      "Shape of x: (7,)\n",
      "Type of x: <class 'tensorflow.python.framework.ops.EagerTensor'>\n",
      "Datatype of x: <dtype: 'int32'>\n"
     ]
    }
   ],
   "source": [
    "st = time()\n",
    "\n",
    "x = tf.dynamic_stitch(indices, data) \n",
    "\n",
    "print(f\"Elapsed time: {time()-st: .2f} s\")\n",
    "print(f\"x: {x}\")\n",
    "print(f\"Shape of x: {x.shape}\")\n",
    "print(f\"Type of x: {type(x)}\")\n",
    "print(f\"Datatype of x: {x.dtype}\")"
   ]
  },
  {
   "cell_type": "markdown",
   "id": "4e4868aa",
   "metadata": {},
   "source": [
    "## Example 2"
   ]
  },
  {
   "cell_type": "code",
   "execution_count": 6,
   "id": "e4b36946",
   "metadata": {},
   "outputs": [],
   "source": [
    "import tensorflow as tf "
   ]
  },
  {
   "cell_type": "code",
   "execution_count": 7,
   "id": "cf3d1007",
   "metadata": {},
   "outputs": [],
   "source": [
    "indices = [[0, 1, 2], [5, 4, 3]] \n",
    "data = [[1, 2, 3], [4, 5, 6]] "
   ]
  },
  {
   "cell_type": "code",
   "execution_count": 8,
   "id": "d4e81956",
   "metadata": {},
   "outputs": [
    {
     "data": {
      "text/plain": [
       "[[0, 1, 2], [5, 4, 3]]"
      ]
     },
     "execution_count": 8,
     "metadata": {},
     "output_type": "execute_result"
    }
   ],
   "source": [
    "indices"
   ]
  },
  {
   "cell_type": "code",
   "execution_count": 9,
   "id": "a0da523c",
   "metadata": {},
   "outputs": [
    {
     "data": {
      "text/plain": [
       "[[1, 2, 3], [4, 5, 6]]"
      ]
     },
     "execution_count": 9,
     "metadata": {},
     "output_type": "execute_result"
    }
   ],
   "source": [
    "data"
   ]
  },
  {
   "cell_type": "code",
   "execution_count": 10,
   "id": "00556fdd",
   "metadata": {},
   "outputs": [
    {
     "name": "stdout",
     "output_type": "stream",
     "text": [
      "Elapsed time:  0.00 s\n",
      "x: [1 2 3 6 5 4]\n",
      "Shape of x: (6,)\n",
      "Type of x: <class 'tensorflow.python.framework.ops.EagerTensor'>\n",
      "Datatype of x: <dtype: 'int32'>\n"
     ]
    }
   ],
   "source": [
    "st = time()\n",
    "\n",
    "x = tf.dynamic_stitch(indices, data) \n",
    "\n",
    "print(f\"Elapsed time: {time()-st: .2f} s\")\n",
    "print(f\"x: {x}\")\n",
    "print(f\"Shape of x: {x.shape}\")\n",
    "print(f\"Type of x: {type(x)}\")\n",
    "print(f\"Datatype of x: {x.dtype}\")"
   ]
  },
  {
   "cell_type": "markdown",
   "id": "e8f4d86a",
   "metadata": {},
   "source": [
    "## Example 3"
   ]
  },
  {
   "cell_type": "markdown",
   "id": "2ff78799",
   "metadata": {},
   "source": [
    "https://www.tensorflow.org/api_docs/python/tf/dynamic_stitch"
   ]
  },
  {
   "cell_type": "code",
   "execution_count": 11,
   "id": "5b4e3212",
   "metadata": {},
   "outputs": [],
   "source": [
    "import tensorflow as tf "
   ]
  },
  {
   "cell_type": "code",
   "execution_count": 12,
   "id": "75714bdf",
   "metadata": {},
   "outputs": [
    {
     "data": {
      "text/plain": [
       "<tf.Tensor: shape=(6,), dtype=float32, numpy=array([ 0.1, -1. ,  5.2,  4.3, -1. ,  7.4], dtype=float32)>"
      ]
     },
     "execution_count": 12,
     "metadata": {},
     "output_type": "execute_result"
    }
   ],
   "source": [
    "# Apply function (increments x_i) on elements for which a certain condition\n",
    "# apply (x_i != -1 in this example).\n",
    "x=tf.constant([0.1, -1., 5.2, 4.3, -1., 7.4])\n",
    "x"
   ]
  },
  {
   "cell_type": "code",
   "execution_count": 13,
   "id": "db2c244e",
   "metadata": {},
   "outputs": [
    {
     "data": {
      "text/plain": [
       "<tf.Tensor: shape=(6,), dtype=bool, numpy=array([ True, False,  True,  True, False,  True])>"
      ]
     },
     "execution_count": 13,
     "metadata": {},
     "output_type": "execute_result"
    }
   ],
   "source": [
    "condition_mask=tf.not_equal(x,tf.constant(-1.))\n",
    "condition_mask"
   ]
  },
  {
   "cell_type": "code",
   "execution_count": 14,
   "id": "3719cc86",
   "metadata": {},
   "outputs": [
    {
     "data": {
      "text/plain": [
       "<tf.Tensor: shape=(6,), dtype=int32, numpy=array([1, 0, 1, 1, 0, 1])>"
      ]
     },
     "execution_count": 14,
     "metadata": {},
     "output_type": "execute_result"
    }
   ],
   "source": [
    "tf.cast(condition_mask, tf.int32)"
   ]
  },
  {
   "cell_type": "code",
   "execution_count": 15,
   "id": "8167b676",
   "metadata": {},
   "outputs": [
    {
     "data": {
      "text/plain": [
       "[<tf.Tensor: shape=(2,), dtype=float32, numpy=array([-1., -1.], dtype=float32)>,\n",
       " <tf.Tensor: shape=(4,), dtype=float32, numpy=array([0.1, 5.2, 4.3, 7.4], dtype=float32)>]"
      ]
     },
     "execution_count": 15,
     "metadata": {},
     "output_type": "execute_result"
    }
   ],
   "source": [
    "partitioned_data = tf.dynamic_partition(x, tf.cast(condition_mask, tf.int32) , 2)\n",
    "partitioned_data"
   ]
  },
  {
   "cell_type": "code",
   "execution_count": 16,
   "id": "a9ad449f",
   "metadata": {},
   "outputs": [
    {
     "data": {
      "text/plain": [
       "[<tf.Tensor: shape=(2,), dtype=float32, numpy=array([-1., -1.], dtype=float32)>,\n",
       " <tf.Tensor: shape=(4,), dtype=float32, numpy=array([1.1, 6.2, 5.3, 8.4], dtype=float32)>]"
      ]
     },
     "execution_count": 16,
     "metadata": {},
     "output_type": "execute_result"
    }
   ],
   "source": [
    "partitioned_data[1] = partitioned_data[1] + 1.0\n",
    "partitioned_data"
   ]
  },
  {
   "cell_type": "code",
   "execution_count": 17,
   "id": "6d24805e",
   "metadata": {},
   "outputs": [
    {
     "data": {
      "text/plain": [
       "<tf.Tensor: shape=(6,), dtype=int32, numpy=array([0, 1, 2, 3, 4, 5])>"
      ]
     },
     "execution_count": 17,
     "metadata": {},
     "output_type": "execute_result"
    }
   ],
   "source": [
    "tf.range(tf.shape(x)[0])"
   ]
  },
  {
   "cell_type": "code",
   "execution_count": 18,
   "id": "cc45246f",
   "metadata": {},
   "outputs": [
    {
     "data": {
      "text/plain": [
       "<tf.Tensor: shape=(6,), dtype=int32, numpy=array([0, 1, 2, 3, 4, 5])>"
      ]
     },
     "execution_count": 18,
     "metadata": {},
     "output_type": "execute_result"
    }
   ],
   "source": [
    "tf.range(x.shape[0]) # equivalent"
   ]
  },
  {
   "cell_type": "code",
   "execution_count": 19,
   "id": "772e775e",
   "metadata": {},
   "outputs": [
    {
     "data": {
      "text/plain": [
       "<tf.Tensor: shape=(6,), dtype=int32, numpy=array([1, 0, 1, 1, 0, 1])>"
      ]
     },
     "execution_count": 19,
     "metadata": {},
     "output_type": "execute_result"
    }
   ],
   "source": [
    "tf.cast(condition_mask, tf.int32)"
   ]
  },
  {
   "cell_type": "code",
   "execution_count": 20,
   "id": "73f52838",
   "metadata": {},
   "outputs": [
    {
     "data": {
      "text/plain": [
       "[<tf.Tensor: shape=(2,), dtype=int32, numpy=array([1, 4])>,\n",
       " <tf.Tensor: shape=(4,), dtype=int32, numpy=array([0, 2, 3, 5])>]"
      ]
     },
     "execution_count": 20,
     "metadata": {},
     "output_type": "execute_result"
    }
   ],
   "source": [
    "condition_indices = tf.dynamic_partition(tf.range(tf.shape(x)[0]), tf.cast(condition_mask, tf.int32) , 2)\n",
    "condition_indices"
   ]
  },
  {
   "cell_type": "code",
   "execution_count": 21,
   "id": "faa23df9",
   "metadata": {},
   "outputs": [
    {
     "data": {
      "text/plain": [
       "<tf.Tensor: shape=(6,), dtype=float32, numpy=array([ 1.1, -1. ,  6.2,  5.3, -1. ,  8.4], dtype=float32)>"
      ]
     },
     "execution_count": 21,
     "metadata": {},
     "output_type": "execute_result"
    }
   ],
   "source": [
    "x = tf.dynamic_stitch(condition_indices, partitioned_data)\n",
    "x\n",
    "   \n",
    "# Here x=[1.1, -1., 6.2, 5.3, -1, 8.4], the -1. values remain\n",
    "# unchanged."
   ]
  },
  {
   "cell_type": "code",
   "execution_count": null,
   "id": "b24d1e11",
   "metadata": {},
   "outputs": [],
   "source": []
  },
  {
   "cell_type": "code",
   "execution_count": null,
   "id": "d02b7183",
   "metadata": {},
   "outputs": [],
   "source": []
  },
  {
   "cell_type": "code",
   "execution_count": null,
   "id": "64fbb6c5",
   "metadata": {},
   "outputs": [],
   "source": [
    "    \n",
    "    \n",
    "    \n",
    "    \n",
    "\n",
    "    \n",
    "\n"
   ]
  }
 ],
 "metadata": {
  "kernelspec": {
   "display_name": "Python 3",
   "language": "python",
   "name": "python3"
  },
  "language_info": {
   "codemirror_mode": {
    "name": "ipython",
    "version": 3
   },
   "file_extension": ".py",
   "mimetype": "text/x-python",
   "name": "python",
   "nbconvert_exporter": "python",
   "pygments_lexer": "ipython3",
   "version": "3.8.8"
  }
 },
 "nbformat": 4,
 "nbformat_minor": 5
}
