{
 "cells": [
  {
   "cell_type": "markdown",
   "id": "ec8ca605",
   "metadata": {},
   "source": [
    "https://colab.research.google.com/drive/1F_EWVKa8rbMXi3_fG0w7AtcscFq7Hi7B#forceEdit=true&sandboxMode=true\n",
    "Import TensorFlow (tf) and get the version of tf"
   ]
  },
  {
   "cell_type": "code",
   "execution_count": 1,
   "id": "c76394da",
   "metadata": {},
   "outputs": [
    {
     "name": "stdout",
     "output_type": "stream",
     "text": [
      "<module 'tensorflow._api.v2.version' from 'E:\\\\Anaconda_install\\\\lib\\\\site-packages\\\\tensorflow\\\\_api\\\\v2\\\\version\\\\__init__.py'>\n",
      "Time elapsed:  1.01\n"
     ]
    }
   ],
   "source": [
    "from time import time\n",
    "\n",
    "st = time()\n",
    "\n",
    "import tensorflow as tf  # now import the tensorflow module\n",
    "print(tf.version)  # make sure the version is 2.x\n",
    "\n",
    "print(f\"Time elapsed: {time()-st: .2f}\")"
   ]
  },
  {
   "cell_type": "markdown",
   "id": "5bffc4c0",
   "metadata": {},
   "source": [
    "Creating Tensors"
   ]
  },
  {
   "cell_type": "code",
   "execution_count": 2,
   "id": "90ab35a9",
   "metadata": {},
   "outputs": [
    {
     "name": "stdout",
     "output_type": "stream",
     "text": [
      "Time elapsed:  99.89\n"
     ]
    }
   ],
   "source": [
    "st = time()\n",
    "\n",
    "string = tf.Variable(\"this is a string\", tf.string)\n",
    "number = tf.Variable(324, tf.int16)\n",
    "floating = tf.Variable(3.567, tf.float64)\n",
    "\n",
    "print(f\"Time elapsed: {time()-st: .2f}\")"
   ]
  },
  {
   "cell_type": "markdown",
   "id": "2a05fd14",
   "metadata": {},
   "source": [
    "Rank/Degree of Tensors"
   ]
  },
  {
   "cell_type": "code",
   "execution_count": 3,
   "id": "3cdb4503",
   "metadata": {},
   "outputs": [
    {
     "name": "stdout",
     "output_type": "stream",
     "text": [
      "Time elapsed:  0.01\n"
     ]
    }
   ],
   "source": [
    "st = time()\n",
    "\n",
    "rank1_tensor = tf.Variable([\"Test\"], tf.string)\n",
    "rank2_tensor = tf.Variable([[\"test\", \"ok\"], [\"test\", \"yes\"]], tf.string)\n",
    "\n",
    "print(f\"Time elapsed: {time()-st: .2f}\")"
   ]
  },
  {
   "cell_type": "code",
   "execution_count": 4,
   "id": "5e53d38a",
   "metadata": {},
   "outputs": [
    {
     "name": "stdout",
     "output_type": "stream",
     "text": [
      "tf.Tensor(2, shape=(), dtype=int32)\n",
      "Time elapsed:  0.00\n"
     ]
    }
   ],
   "source": [
    "st = time()\n",
    "\n",
    "print(tf.rank(rank2_tensor))\n",
    "\n",
    "print(f\"Time elapsed: {time()-st: .2f}\")"
   ]
  },
  {
   "cell_type": "markdown",
   "id": "eb0198f3",
   "metadata": {},
   "source": [
    "Shape of Tensors"
   ]
  },
  {
   "cell_type": "code",
   "execution_count": 5,
   "id": "c07a32c1",
   "metadata": {},
   "outputs": [
    {
     "name": "stdout",
     "output_type": "stream",
     "text": [
      "(2, 2)\n",
      "Time elapsed:  0.00\n"
     ]
    }
   ],
   "source": [
    "st = time()\n",
    "\n",
    "print(rank2_tensor.shape)\n",
    "\n",
    "print(f\"Time elapsed: {time()-st: .2f}\")"
   ]
  },
  {
   "cell_type": "markdown",
   "id": "590010aa",
   "metadata": {},
   "source": [
    "Changing Shape"
   ]
  },
  {
   "cell_type": "code",
   "execution_count": 6,
   "id": "362c3345",
   "metadata": {},
   "outputs": [
    {
     "name": "stdout",
     "output_type": "stream",
     "text": [
      "Time elapsed:  0.01\n"
     ]
    }
   ],
   "source": [
    "st = time()\n",
    "\n",
    "tensor1 = tf.ones([1, 2, 3]) # tf.ones() creates a shape [1,2,3] tensor full of ones\n",
    "tensor2 = tf.reshape(tensor1, [2,3,1])  # reshape existing data to shape [2,3,1]\n",
    "tensor3 = tf.reshape(tensor2, [3, -1])  # -1 tells the tensor to calculate the size of the dimension in that place\n",
    "                                        # this will reshape the tensor to [3,3]\n",
    "\n",
    "# The numer of elements in the reshaped tensor MUST match the number in the original    \n",
    "\n",
    "print(f\"Time elapsed: {time()-st: .2f}\")"
   ]
  },
  {
   "cell_type": "code",
   "execution_count": 7,
   "id": "2a7f3cc3",
   "metadata": {},
   "outputs": [
    {
     "name": "stdout",
     "output_type": "stream",
     "text": [
      "tf.Tensor(\n",
      "[[[1. 1. 1.]\n",
      "  [1. 1. 1.]]], shape=(1, 2, 3), dtype=float32)\n",
      "tf.Tensor(\n",
      "[[[1.]\n",
      "  [1.]\n",
      "  [1.]]\n",
      "\n",
      " [[1.]\n",
      "  [1.]\n",
      "  [1.]]], shape=(2, 3, 1), dtype=float32)\n",
      "tf.Tensor(\n",
      "[[1. 1.]\n",
      " [1. 1.]\n",
      " [1. 1.]], shape=(3, 2), dtype=float32)\n",
      "Time elapsed:  0.00\n"
     ]
    }
   ],
   "source": [
    "st = time()\n",
    "\n",
    "print(tensor1)\n",
    "print(tensor2)\n",
    "print(tensor3)\n",
    "# Notice the changes in shape\n",
    "\n",
    "print(f\"Time elapsed: {time()-st: .2f}\")"
   ]
  },
  {
   "cell_type": "markdown",
   "id": "1e4b0182",
   "metadata": {},
   "source": [
    "Slicing Tensors"
   ]
  },
  {
   "cell_type": "code",
   "execution_count": 8,
   "id": "bf671391",
   "metadata": {},
   "outputs": [
    {
     "name": "stdout",
     "output_type": "stream",
     "text": [
      "tf.Tensor(2, shape=(), dtype=int32)\n",
      "(4, 5)\n",
      "Time elapsed:  0.01\n"
     ]
    }
   ],
   "source": [
    "st = time()\n",
    "\n",
    "# Creating a 2D tensor\n",
    "matrix = [[1,2,3,4,5],\n",
    "          [6,7,8,9,10],\n",
    "          [11,12,13,14,15],\n",
    "          [16,17,18,19,20]]\n",
    "\n",
    "tensor = tf.Variable(matrix, dtype=tf.int32) \n",
    "\n",
    "print(tf.rank(tensor))\n",
    "\n",
    "print(tensor.shape)\n",
    "\n",
    "print(f\"Time elapsed: {time()-st: .2f}\")"
   ]
  },
  {
   "cell_type": "code",
   "execution_count": 9,
   "id": "e4d1efd0",
   "metadata": {},
   "outputs": [
    {
     "name": "stdout",
     "output_type": "stream",
     "text": [
      "tf.Tensor(3, shape=(), dtype=int32)\n",
      "tf.Tensor([1 2 3 4 5], shape=(5,), dtype=int32)\n",
      "tf.Tensor([ 1  6 11 16], shape=(4,), dtype=int32)\n",
      "tf.Tensor(\n",
      "[[ 6  7  8  9 10]\n",
      " [16 17 18 19 20]], shape=(2, 5), dtype=int32)\n",
      "tf.Tensor([ 6 11], shape=(2,), dtype=int32)\n",
      "Time elapsed:  0.00\n"
     ]
    }
   ],
   "source": [
    "st = time()\n",
    "\n",
    "# Now lets select some different rows and columns from our tensor\n",
    "\n",
    "three = tensor[0,2]  # selects the 3rd element from the 1st row\n",
    "print(three)  # -> 3\n",
    "\n",
    "row1 = tensor[0]  # selects the first row\n",
    "print(row1)\n",
    "\n",
    "column1 = tensor[:, 0]  # selects the first column\n",
    "print(column1)\n",
    "\n",
    "row_2_and_4 = tensor[1::2]  # selects second and fourth row\n",
    "print(row_2_and_4)\n",
    "\n",
    "column_1_in_row_2_and_3 = tensor[1:3, 0]\n",
    "print(column_1_in_row_2_and_3)\n",
    "\n",
    "print(f\"Time elapsed: {time()-st: .2f}\")"
   ]
  },
  {
   "cell_type": "code",
   "execution_count": null,
   "id": "5ca9105d",
   "metadata": {},
   "outputs": [],
   "source": []
  }
 ],
 "metadata": {
  "kernelspec": {
   "display_name": "Python 3",
   "language": "python",
   "name": "python3"
  },
  "language_info": {
   "codemirror_mode": {
    "name": "ipython",
    "version": 3
   },
   "file_extension": ".py",
   "mimetype": "text/x-python",
   "name": "python",
   "nbconvert_exporter": "python",
   "pygments_lexer": "ipython3",
   "version": "3.8.8"
  }
 },
 "nbformat": 4,
 "nbformat_minor": 5
}
