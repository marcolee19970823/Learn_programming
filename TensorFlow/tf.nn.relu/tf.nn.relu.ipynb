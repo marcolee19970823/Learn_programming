{
 "cells": [
  {
   "cell_type": "markdown",
   "id": "42aef9c8",
   "metadata": {},
   "source": [
    "https://www.tensorflow.org/api_docs/python/tf/nn/relu"
   ]
  },
  {
   "cell_type": "code",
   "execution_count": 1,
   "id": "9b9330e6",
   "metadata": {},
   "outputs": [],
   "source": [
    "import tensorflow as tf\n",
    "from time import time"
   ]
  },
  {
   "cell_type": "code",
   "execution_count": 2,
   "id": "52c7d818",
   "metadata": {},
   "outputs": [
    {
     "name": "stdout",
     "output_type": "stream",
     "text": [
      "[0. 0. 3.]\n",
      "tf.Tensor([0. 0. 3.], shape=(3,), dtype=float32)\n",
      "\n",
      "Elpased time:  29.98\n"
     ]
    }
   ],
   "source": [
    "st = time()\n",
    "\n",
    "print(tf.nn.relu([-2., 0., 3.]).numpy())\n",
    "print(tf.nn.relu([-2., 0., 3.]))\n",
    "\n",
    "print(f\"\\nElpased time: {time() - st: .2f}\")"
   ]
  },
  {
   "cell_type": "markdown",
   "id": "5ce26a09",
   "metadata": {},
   "source": [
    "See: https://en.wikipedia.org/wiki/Rectifier_(neural_networks) "
   ]
  }
 ],
 "metadata": {
  "kernelspec": {
   "display_name": "Python 3",
   "language": "python",
   "name": "python3"
  },
  "language_info": {
   "codemirror_mode": {
    "name": "ipython",
    "version": 3
   },
   "file_extension": ".py",
   "mimetype": "text/x-python",
   "name": "python",
   "nbconvert_exporter": "python",
   "pygments_lexer": "ipython3",
   "version": "3.8.8"
  }
 },
 "nbformat": 4,
 "nbformat_minor": 5
}
