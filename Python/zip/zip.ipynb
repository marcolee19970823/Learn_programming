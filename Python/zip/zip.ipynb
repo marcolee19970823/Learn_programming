{
 "cells": [
  {
   "cell_type": "markdown",
   "id": "2959ccfb",
   "metadata": {},
   "source": [
    "https://www.programiz.com/python-programming/methods/built-in/zip"
   ]
  },
  {
   "cell_type": "code",
   "execution_count": 1,
   "id": "77408c39",
   "metadata": {},
   "outputs": [],
   "source": [
    "languages = ['Java', 'Python', 'JavaScript']"
   ]
  },
  {
   "cell_type": "code",
   "execution_count": 2,
   "id": "07296d73",
   "metadata": {},
   "outputs": [],
   "source": [
    "versions = [14, 3, 6]"
   ]
  },
  {
   "cell_type": "code",
   "execution_count": 3,
   "id": "9ce49b2a",
   "metadata": {},
   "outputs": [],
   "source": [
    "result = zip(languages, versions)"
   ]
  },
  {
   "cell_type": "code",
   "execution_count": 4,
   "id": "c05cc93c",
   "metadata": {},
   "outputs": [
    {
     "data": {
      "text/plain": [
       "<zip at 0x264fa329040>"
      ]
     },
     "execution_count": 4,
     "metadata": {},
     "output_type": "execute_result"
    }
   ],
   "source": [
    "result"
   ]
  },
  {
   "cell_type": "code",
   "execution_count": 5,
   "id": "008fde51",
   "metadata": {},
   "outputs": [
    {
     "name": "stdout",
     "output_type": "stream",
     "text": [
      "<zip object at 0x00000264FA329040>\n"
     ]
    }
   ],
   "source": [
    "print(result)"
   ]
  },
  {
   "cell_type": "code",
   "execution_count": 6,
   "id": "dbacdaca",
   "metadata": {},
   "outputs": [
    {
     "data": {
      "text/plain": [
       "[('Java', 14), ('Python', 3), ('JavaScript', 6)]"
      ]
     },
     "execution_count": 6,
     "metadata": {},
     "output_type": "execute_result"
    }
   ],
   "source": [
    "list(result)"
   ]
  },
  {
   "cell_type": "markdown",
   "id": "753692c6",
   "metadata": {},
   "source": [
    "### example 1"
   ]
  },
  {
   "cell_type": "code",
   "execution_count": 7,
   "id": "75df3d8f",
   "metadata": {},
   "outputs": [
    {
     "name": "stdout",
     "output_type": "stream",
     "text": [
      "[]\n",
      "{(2, 'two'), (1, 'one'), (3, 'three')}\n"
     ]
    }
   ],
   "source": [
    "number_list = [1, 2, 3]\n",
    "str_list = ['one', 'two', 'three']\n",
    "\n",
    "# No iterables are passed\n",
    "result = zip()\n",
    "\n",
    "# Converting iterator to list\n",
    "result_list = list(result)\n",
    "print(result_list)\n",
    "\n",
    "# Two iterables are passed\n",
    "result = zip(number_list, str_list)\n",
    "\n",
    "# Converting iterator to set\n",
    "result_set = set(result)\n",
    "print(result_set)"
   ]
  },
  {
   "cell_type": "markdown",
   "id": "b467a762",
   "metadata": {},
   "source": [
    "### example 2"
   ]
  },
  {
   "cell_type": "code",
   "execution_count": 8,
   "id": "d838d5d8",
   "metadata": {},
   "outputs": [
    {
     "name": "stdout",
     "output_type": "stream",
     "text": [
      "{(1, 'ONE'), (3, 'THREE'), (2, 'TWO')}\n",
      "{(1, 'one', 'ONE'), (2, 'two', 'TWO')}\n"
     ]
    }
   ],
   "source": [
    "numbersList = [1, 2, 3]\n",
    "str_list = ['one', 'two']\n",
    "numbers_tuple = ('ONE', 'TWO', 'THREE', 'FOUR')\n",
    "\n",
    "# Notice, the size of numbersList and numbers_tuple is different\n",
    "result = zip(numbersList, numbers_tuple)\n",
    "\n",
    "# Converting to set\n",
    "result_set = set(result)\n",
    "print(result_set)\n",
    "\n",
    "result = zip(numbersList, str_list, numbers_tuple)\n",
    "\n",
    "# Converting to set\n",
    "result_set = set(result)\n",
    "print(result_set)"
   ]
  },
  {
   "cell_type": "markdown",
   "id": "c0206150",
   "metadata": {},
   "source": [
    "### example 3"
   ]
  },
  {
   "cell_type": "code",
   "execution_count": 9,
   "id": "4b6fe048",
   "metadata": {},
   "outputs": [
    {
     "name": "stdout",
     "output_type": "stream",
     "text": [
      "[('x', 3), ('y', 4), ('z', 5)]\n",
      "c = ('x', 'y', 'z')\n",
      "v = (3, 4, 5)\n"
     ]
    }
   ],
   "source": [
    "coordinate = ['x', 'y', 'z']\n",
    "value = [3, 4, 5]\n",
    "\n",
    "result = zip(coordinate, value)\n",
    "result_list = list(result)\n",
    "print(result_list)\n",
    "\n",
    "c, v =  zip(*result_list)\n",
    "print('c =', c)\n",
    "print('v =', v)"
   ]
  },
  {
   "cell_type": "code",
   "execution_count": null,
   "id": "c80b6a41",
   "metadata": {},
   "outputs": [],
   "source": []
  }
 ],
 "metadata": {
  "kernelspec": {
   "display_name": "Python 3",
   "language": "python",
   "name": "python3"
  },
  "language_info": {
   "codemirror_mode": {
    "name": "ipython",
    "version": 3
   },
   "file_extension": ".py",
   "mimetype": "text/x-python",
   "name": "python",
   "nbconvert_exporter": "python",
   "pygments_lexer": "ipython3",
   "version": "3.8.8"
  }
 },
 "nbformat": 4,
 "nbformat_minor": 5
}
