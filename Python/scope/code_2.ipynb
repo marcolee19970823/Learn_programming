{
 "cells": [
  {
   "cell_type": "markdown",
   "id": "07d74ebe",
   "metadata": {},
   "source": [
    "https://www.w3schools.com/python/python_scope.asp"
   ]
  },
  {
   "cell_type": "markdown",
   "id": "84f11b0e",
   "metadata": {},
   "source": [
    "## Python Scope\n",
    "\n",
    "A variable is only available from inside the region it is created. \n",
    "\n",
    "This is called **scope**.\n"
   ]
  },
  {
   "cell_type": "markdown",
   "id": "5971b17b",
   "metadata": {},
   "source": [
    "## Local Scope\n",
    "\n",
    "A variable created **inside a function** belongs to the local scope of that function, and can only be used inside that function."
   ]
  },
  {
   "cell_type": "code",
   "execution_count": 2,
   "id": "4df1a07b",
   "metadata": {},
   "outputs": [
    {
     "name": "stdout",
     "output_type": "stream",
     "text": [
      "300\n"
     ]
    }
   ],
   "source": [
    "# A variable created inside a function is available inside that function:\n",
    "\n",
    "def myfunc():\n",
    "    x = 300\n",
    "    print(x)\n",
    "\n",
    "myfunc()"
   ]
  },
  {
   "cell_type": "code",
   "execution_count": 3,
   "id": "10a48af4",
   "metadata": {},
   "outputs": [
    {
     "name": "stdout",
     "output_type": "stream",
     "text": [
      "300\n"
     ]
    }
   ],
   "source": [
    "# Function Inside Function\n",
    "\n",
    "# As explained in the example above, \n",
    "# the variable x is not available outside the function, \n",
    "# but it is available for any function inside the function:\n",
    "\n",
    "# The local variable can be accessed from a function within the function:\n",
    "\n",
    "def myfunc():\n",
    "    x = 300\n",
    "    \n",
    "    def myinnerfunc():\n",
    "        print(x)\n",
    "    \n",
    "    myinnerfunc()\n",
    "\n",
    "myfunc()"
   ]
  },
  {
   "cell_type": "markdown",
   "id": "adbb12b4",
   "metadata": {},
   "source": [
    "## Global Scope\n",
    "\n",
    "A variable created in the **main body** of the Python code is a global variable and belongs to the global scope.\n",
    "\n",
    "Global variables are available from within **any scope**, global and local."
   ]
  },
  {
   "cell_type": "code",
   "execution_count": 4,
   "id": "b1cfd372",
   "metadata": {},
   "outputs": [
    {
     "name": "stdout",
     "output_type": "stream",
     "text": [
      "300\n",
      "300\n"
     ]
    }
   ],
   "source": [
    "# A variable created outside of a function is global and can be used by anyone:\n",
    "\n",
    "x = 300\n",
    "\n",
    "def myfunc():\n",
    "    print(x)\n",
    "\n",
    "myfunc()\n",
    "\n",
    "print(x)"
   ]
  },
  {
   "cell_type": "code",
   "execution_count": 5,
   "id": "5496eec4",
   "metadata": {},
   "outputs": [
    {
     "name": "stdout",
     "output_type": "stream",
     "text": [
      "200\n",
      "300\n"
     ]
    }
   ],
   "source": [
    "# Naming Variables\n",
    "\n",
    "# If you operate with the same variable name inside and outside of a function, \n",
    "# Python will treat them as two separate variables, \n",
    "# one available in the global scope (outside the function) \n",
    "# and one available in the local scope (inside the function):\n",
    "\n",
    "x = 300\n",
    "\n",
    "def myfunc():\n",
    "    x = 200\n",
    "    print(x)\n",
    "\n",
    "myfunc()\n",
    "\n",
    "print(x)\n",
    "\n",
    "# The function will print the local x, and then the code will print the global x:"
   ]
  },
  {
   "cell_type": "markdown",
   "id": "077f4ca6",
   "metadata": {},
   "source": [
    "## Global Keyword\n",
    "\n",
    "If you need to create a global variable, \n",
    "but are stuck in the local scope, you can use the global keyword.\n",
    "\n",
    "The global keyword makes the variable global."
   ]
  },
  {
   "cell_type": "code",
   "execution_count": 7,
   "id": "47d86862",
   "metadata": {},
   "outputs": [
    {
     "name": "stdout",
     "output_type": "stream",
     "text": [
      "300\n"
     ]
    }
   ],
   "source": [
    "# If you use the global keyword, the variable belongs to the global scope:\n",
    "\n",
    "def myfunc():\n",
    "    global x\n",
    "    x = 300\n",
    "\n",
    "myfunc()\n",
    "\n",
    "print(x)"
   ]
  },
  {
   "cell_type": "code",
   "execution_count": 8,
   "id": "e0482804",
   "metadata": {},
   "outputs": [
    {
     "name": "stdout",
     "output_type": "stream",
     "text": [
      "200\n"
     ]
    }
   ],
   "source": [
    "# To change the value of a global variable inside a function, \n",
    "# refer to the variable by using the global keyword:\n",
    "\n",
    "x = 300\n",
    "\n",
    "def myfunc():\n",
    "    global x\n",
    "    x = 200\n",
    "\n",
    "myfunc()\n",
    "\n",
    "print(x)"
   ]
  },
  {
   "cell_type": "code",
   "execution_count": null,
   "id": "89d72e28",
   "metadata": {},
   "outputs": [],
   "source": []
  }
 ],
 "metadata": {
  "kernelspec": {
   "display_name": "Python 3",
   "language": "python",
   "name": "python3"
  },
  "language_info": {
   "codemirror_mode": {
    "name": "ipython",
    "version": 3
   },
   "file_extension": ".py",
   "mimetype": "text/x-python",
   "name": "python",
   "nbconvert_exporter": "python",
   "pygments_lexer": "ipython3",
   "version": "3.8.8"
  }
 },
 "nbformat": 4,
 "nbformat_minor": 5
}
