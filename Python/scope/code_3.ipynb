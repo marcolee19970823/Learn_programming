{
 "cells": [
  {
   "cell_type": "markdown",
   "id": "f11142b2",
   "metadata": {},
   "source": [
    "https://www.datacamp.com/community/tutorials/scope-of-variables-python"
   ]
  },
  {
   "cell_type": "markdown",
   "id": "fdee6e27",
   "metadata": {},
   "source": [
    "## Scope of Variables in Python"
   ]
  },
  {
   "cell_type": "code",
   "execution_count": 1,
   "id": "e4fc14cb",
   "metadata": {},
   "outputs": [],
   "source": [
    "# Variable\n",
    "\n",
    "# A variable is a label or a name given to a certain location in memory. \n",
    "# This location holds the value you want your program to remember, for use later on. \n",
    "\n",
    "# What's great in Python is that you do not have to explicitly state what \n",
    "# the type of variable you want to define is - it can be of any type \n",
    "# (string, integer, float, etc.). \n",
    "\n",
    "first_string_var = \"First String\"  \n",
    "first_int_var = 1\n",
    "total = 1 + 2 * 3"
   ]
  },
  {
   "cell_type": "markdown",
   "id": "cf47c812",
   "metadata": {},
   "source": [
    "## Variable Scope"
   ]
  },
  {
   "cell_type": "markdown",
   "id": "4a695123",
   "metadata": {},
   "source": [
    "Now that you know how to initialize a variable.\n",
    "\n",
    "Let's talk about the scope of these variables. \n",
    "\n",
    "Not all variables can be accessed from anywhere in a program. \n",
    "\n",
    "The part of a program where a variable is accessible is called its **scope**.\n",
    "\n",
    "There are **four** major types of variable scope and is the basis for the LEGB rule. \n",
    "\n",
    "LEGB stands for Local -> Enclosing -> Global -> Built-in."
   ]
  },
  {
   "cell_type": "markdown",
   "id": "145b2e41",
   "metadata": {},
   "source": [
    "### Local Scope"
   ]
  },
  {
   "cell_type": "markdown",
   "id": "b0812ad0",
   "metadata": {},
   "source": [
    "Whenever you define a variable **within** a function, its scope lies **ONLY** within the function. \n",
    "\n",
    "It is accessible from the point at which it is defined until the end of the function and **exists for as long as the function is executing**. \n",
    "\n",
    "Which means its value cannot be changed or even accessed from outside the function."
   ]
  },
  {
   "cell_type": "code",
   "execution_count": 2,
   "id": "b45da0b2",
   "metadata": {},
   "outputs": [
    {
     "name": "stdout",
     "output_type": "stream",
     "text": [
      "The first number defined is:  1\n"
     ]
    },
    {
     "ename": "NameError",
     "evalue": "name 'first_num' is not defined",
     "output_type": "error",
     "traceback": [
      "\u001b[1;31m---------------------------------------------------------------------------\u001b[0m",
      "\u001b[1;31mNameError\u001b[0m                                 Traceback (most recent call last)",
      "\u001b[1;32m<ipython-input-2-bab9d405230e>\u001b[0m in \u001b[0;36m<module>\u001b[1;34m\u001b[0m\n\u001b[0;32m      7\u001b[0m \u001b[1;33m\u001b[0m\u001b[0m\n\u001b[0;32m      8\u001b[0m \u001b[1;31m# Print statement 2\u001b[0m\u001b[1;33m\u001b[0m\u001b[1;33m\u001b[0m\u001b[1;33m\u001b[0m\u001b[0m\n\u001b[1;32m----> 9\u001b[1;33m \u001b[0mprint\u001b[0m\u001b[1;33m(\u001b[0m\u001b[1;34m\"The first number defined is: \"\u001b[0m\u001b[1;33m,\u001b[0m \u001b[0mfirst_num\u001b[0m\u001b[1;33m)\u001b[0m\u001b[1;33m\u001b[0m\u001b[1;33m\u001b[0m\u001b[0m\n\u001b[0m",
      "\u001b[1;31mNameError\u001b[0m: name 'first_num' is not defined"
     ]
    }
   ],
   "source": [
    "def print_number():\n",
    "    first_num = 1\n",
    "    # Print statement 1\n",
    "    print(\"The first number defined is: \", first_num)\n",
    "\n",
    "print_number()\n",
    "\n",
    "# Print statement 2\n",
    "print(\"The first number defined is: \", first_num)"
   ]
  },
  {
   "cell_type": "markdown",
   "id": "a5a893bc",
   "metadata": {},
   "source": [
    "## Enclosing Scope"
   ]
  },
  {
   "cell_type": "markdown",
   "id": "088c94b3",
   "metadata": {},
   "source": [
    "What if we have a nested function (function defined inside another function)? \n",
    "\n",
    "How does the scope change? \n",
    "\n",
    "Let's see with the help of an example."
   ]
  },
  {
   "cell_type": "code",
   "execution_count": 3,
   "id": "d059a5c5",
   "metadata": {},
   "outputs": [
    {
     "name": "stdout",
     "output_type": "stream",
     "text": [
      "first_num from outer:  1\n",
      "second_num from inner:  2\n"
     ]
    },
    {
     "ename": "NameError",
     "evalue": "name 'second_num' is not defined",
     "output_type": "error",
     "traceback": [
      "\u001b[1;31m---------------------------------------------------------------------------\u001b[0m",
      "\u001b[1;31mNameError\u001b[0m                                 Traceback (most recent call last)",
      "\u001b[1;32m<ipython-input-3-e773771c9008>\u001b[0m in \u001b[0;36m<module>\u001b[1;34m\u001b[0m\n\u001b[0;32m     13\u001b[0m     \u001b[0mprint\u001b[0m\u001b[1;33m(\u001b[0m\u001b[1;34m\"second_num from inner: \"\u001b[0m\u001b[1;33m,\u001b[0m \u001b[0msecond_num\u001b[0m\u001b[1;33m)\u001b[0m\u001b[1;33m\u001b[0m\u001b[1;33m\u001b[0m\u001b[0m\n\u001b[0;32m     14\u001b[0m \u001b[1;33m\u001b[0m\u001b[0m\n\u001b[1;32m---> 15\u001b[1;33m \u001b[0mouter\u001b[0m\u001b[1;33m(\u001b[0m\u001b[1;33m)\u001b[0m\u001b[1;33m\u001b[0m\u001b[1;33m\u001b[0m\u001b[0m\n\u001b[0m",
      "\u001b[1;32m<ipython-input-3-e773771c9008>\u001b[0m in \u001b[0;36mouter\u001b[1;34m()\u001b[0m\n\u001b[0;32m     11\u001b[0m     \u001b[0minner\u001b[0m\u001b[1;33m(\u001b[0m\u001b[1;33m)\u001b[0m\u001b[1;33m\u001b[0m\u001b[1;33m\u001b[0m\u001b[0m\n\u001b[0;32m     12\u001b[0m     \u001b[1;31m# Print statement 3 - Scope: Outer\u001b[0m\u001b[1;33m\u001b[0m\u001b[1;33m\u001b[0m\u001b[1;33m\u001b[0m\u001b[0m\n\u001b[1;32m---> 13\u001b[1;33m     \u001b[0mprint\u001b[0m\u001b[1;33m(\u001b[0m\u001b[1;34m\"second_num from inner: \"\u001b[0m\u001b[1;33m,\u001b[0m \u001b[0msecond_num\u001b[0m\u001b[1;33m)\u001b[0m\u001b[1;33m\u001b[0m\u001b[1;33m\u001b[0m\u001b[0m\n\u001b[0m\u001b[0;32m     14\u001b[0m \u001b[1;33m\u001b[0m\u001b[0m\n\u001b[0;32m     15\u001b[0m \u001b[0mouter\u001b[0m\u001b[1;33m(\u001b[0m\u001b[1;33m)\u001b[0m\u001b[1;33m\u001b[0m\u001b[1;33m\u001b[0m\u001b[0m\n",
      "\u001b[1;31mNameError\u001b[0m: name 'second_num' is not defined"
     ]
    }
   ],
   "source": [
    "def outer():\n",
    "    first_num = 1\n",
    "    \n",
    "    def inner():\n",
    "        second_num = 2\n",
    "        # Print statement 1 - Scope: Inner\n",
    "        print(\"first_num from outer: \", first_num)\n",
    "        # Print statement 2 - Scope: Inner\n",
    "        print(\"second_num from inner: \", second_num)\n",
    "        \n",
    "    inner()\n",
    "    # Print statement 3 - Scope: Outer\n",
    "    print(\"second_num from inner: \", second_num)\n",
    "\n",
    "outer()"
   ]
  },
  {
   "cell_type": "markdown",
   "id": "7cad7a7f",
   "metadata": {},
   "source": [
    "### Global Scope"
   ]
  },
  {
   "cell_type": "markdown",
   "id": "ea9ab0d8",
   "metadata": {},
   "source": [
    "Whenever a variable is defined **outside any function**, it becomes a global variable, and its scope is anywhere within the program. \n",
    "\n",
    "Which means it can be used by any function.\n"
   ]
  },
  {
   "cell_type": "code",
   "execution_count": 4,
   "id": "d7d85c1a",
   "metadata": {},
   "outputs": [
    {
     "data": {
      "text/plain": [
       "2"
      ]
     },
     "execution_count": 4,
     "metadata": {},
     "output_type": "execute_result"
    }
   ],
   "source": [
    "# Example 1\n",
    "a = 1\n",
    "\n",
    "def test(a):\n",
    "    a += 1\n",
    "    return a\n",
    "\n",
    "a = test(a)\n",
    "\n",
    "a"
   ]
  },
  {
   "cell_type": "code",
   "execution_count": 5,
   "id": "e3e9553e",
   "metadata": {},
   "outputs": [
    {
     "data": {
      "text/plain": [
       "1"
      ]
     },
     "execution_count": 5,
     "metadata": {},
     "output_type": "execute_result"
    }
   ],
   "source": [
    "# Example 2\n",
    "a = 1\n",
    "\n",
    "def test(a):\n",
    "    a += 1\n",
    "\n",
    "test(a)\n",
    "\n",
    "a"
   ]
  },
  {
   "cell_type": "code",
   "execution_count": 6,
   "id": "b10d8e7c",
   "metadata": {},
   "outputs": [
    {
     "name": "stdout",
     "output_type": "stream",
     "text": [
      "Hello World\n",
      "Hello Samuel\n"
     ]
    }
   ],
   "source": [
    "greeting = \"Hello\"\n",
    "\n",
    "def greeting_world():\n",
    "    world = \"World\"\n",
    "    print(greeting, world)\n",
    "\n",
    "def greeting_name(name):\n",
    "    print(greeting, name)\n",
    "\n",
    "greeting_world()\n",
    "greeting_name(\"Samuel\")"
   ]
  },
  {
   "attachments": {
    "image.png": {
     "image/png": "[encoded data removed]"
    }
   },
   "cell_type": "markdown",
   "id": "bd882914",
   "metadata": {},
   "source": [
    "## Built-in Scope\n",
    "\n",
    "This is the widest scope that exists! \n",
    "\n",
    "All the special reserved keywords fall under this scope. \n",
    "\n",
    "We can call the keywords anywhere within our program without having to define them before use.\n",
    "\n",
    "Keywords are simply special reserved words. \n",
    "\n",
    "They are kept for specific purposes and cannot be used for any other purpose in the program.\n",
    "\n",
    "These are the keywords in Python:\n",
    "\n",
    "![image.png](attachment:image.png)"
   ]
  },
  {
   "cell_type": "markdown",
   "id": "58f70228",
   "metadata": {},
   "source": [
    "## Scenario 1: Global Scope\n",
    "Let's say you wanted to be able to change the global variable **greeting**(\"Hello\") to set a new value (\"Hi\") for the greeting, so that greeting_world() prints \"Hi World\""
   ]
  },
  {
   "cell_type": "code",
   "execution_count": 7,
   "id": "eb77e1d8",
   "metadata": {},
   "outputs": [
    {
     "name": "stdout",
     "output_type": "stream",
     "text": [
      "Hello World\n"
     ]
    }
   ],
   "source": [
    "greeting = \"Hello\"\n",
    "\n",
    "def change_greeting(new_greeting):\n",
    "    greeting = new_greeting\n",
    "\n",
    "def greeting_world():\n",
    "    world = \"World\"\n",
    "    print(greeting, world)\n",
    "\n",
    "change_greeting(\"Hi\")\n",
    "greeting_world()"
   ]
  },
  {
   "cell_type": "markdown",
   "id": "98f2a538",
   "metadata": {},
   "source": [
    "Well...that did not go as wanted! Why?\n",
    "\n",
    "This is because when we set the value of greeting to \"Hi\", it created **a new local variable greeting** in the scope of change_greeting(). \n",
    "\n",
    "It did not change anything for the global greeting. This is where the global keyword comes in handy."
   ]
  },
  {
   "cell_type": "markdown",
   "id": "183d6596",
   "metadata": {},
   "source": [
    "## Global Keyword\n",
    "\n",
    "With global, you're telling Python to **use the globally defined variable** instead of locally creating one. \n",
    "\n",
    "To use the keyword, simply type 'global', followed by the variable name. Let's see this in action on Scenario 1."
   ]
  },
  {
   "cell_type": "code",
   "execution_count": 8,
   "id": "9a58ca75",
   "metadata": {},
   "outputs": [
    {
     "name": "stdout",
     "output_type": "stream",
     "text": [
      "Hi World\n"
     ]
    }
   ],
   "source": [
    "greeting = \"Hello\"\n",
    "\n",
    "def change_greeting(new_greeting):\n",
    "    global greeting\n",
    "    greeting = new_greeting\n",
    "\n",
    "def greeting_world():\n",
    "    world = \"World\"\n",
    "    print(greeting, world)\n",
    "\n",
    "change_greeting(\"Hi\")\n",
    "greeting_world()"
   ]
  },
  {
   "cell_type": "markdown",
   "id": "ebd64a71",
   "metadata": {},
   "source": [
    "## Scenario 2: Enclosing Scope\n",
    "\n",
    "Here, we have a look at the outer() and inner() nested functions from the Enclosing Scope example. \n",
    "\n",
    "Let's try to change the value of first_num from 1 to 0 from within inner()."
   ]
  },
  {
   "cell_type": "code",
   "execution_count": 9,
   "id": "6a20c08b",
   "metadata": {},
   "outputs": [
    {
     "name": "stdout",
     "output_type": "stream",
     "text": [
      "inner - second_num is:  1\n",
      "outer - first_num is:  1\n"
     ]
    }
   ],
   "source": [
    "def outer():\n",
    "    first_num = 1\n",
    "    \n",
    "    def inner():\n",
    "        first_num = 0\n",
    "        second_num = 1\n",
    "        print(\"inner - second_num is: \", second_num)\n",
    "    \n",
    "    inner()\n",
    "    print(\"outer - first_num is: \", first_num)\n",
    "\n",
    "outer()"
   ]
  },
  {
   "cell_type": "markdown",
   "id": "02be8e2a",
   "metadata": {},
   "source": [
    "It isn't always that simple, is it! For such purposes, we make use of nonlocal keyword within Python."
   ]
  },
  {
   "cell_type": "markdown",
   "id": "73a0dd34",
   "metadata": {},
   "source": [
    "## Nonlocal Keyword\n",
    "\n",
    "This is another handy keyword that allows us to work more flexibly and tidily with variable scopes. \n",
    "\n",
    "The nonlocal keyword is useful in nested functions. \n",
    "\n",
    "It causes the variable to refer to the previously bound variable in the closest enclosing scope. \n",
    "\n",
    "In other words, it will prevent the variable from trying to bind locally first, and force it to go a level 'higher up'. \n",
    "\n",
    "The syntax is similar to the global keyword."
   ]
  },
  {
   "cell_type": "code",
   "execution_count": 10,
   "id": "cd8140b9",
   "metadata": {},
   "outputs": [
    {
     "name": "stdout",
     "output_type": "stream",
     "text": [
      "inner - second_num is:  1\n",
      "outer - first_num is:  0\n"
     ]
    }
   ],
   "source": [
    "def outer():\n",
    "    first_num = 1\n",
    "    \n",
    "    def inner():\n",
    "        nonlocal first_num\n",
    "        first_num = 0\n",
    "        second_num = 1\n",
    "        print(\"inner - second_num is: \", second_num)\n",
    "    \n",
    "    inner()\n",
    "    print(\"outer - first_num is: \", first_num)\n",
    "\n",
    "outer()"
   ]
  },
  {
   "cell_type": "code",
   "execution_count": null,
   "id": "e3fc86a0",
   "metadata": {},
   "outputs": [],
   "source": []
  }
 ],
 "metadata": {
  "kernelspec": {
   "display_name": "Python 3",
   "language": "python",
   "name": "python3"
  },
  "language_info": {
   "codemirror_mode": {
    "name": "ipython",
    "version": 3
   },
   "file_extension": ".py",
   "mimetype": "text/x-python",
   "name": "python",
   "nbconvert_exporter": "python",
   "pygments_lexer": "ipython3",
   "version": "3.8.8"
  }
 },
 "nbformat": 4,
 "nbformat_minor": 5
}
