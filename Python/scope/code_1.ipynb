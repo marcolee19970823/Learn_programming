{
 "cells": [
  {
   "cell_type": "markdown",
   "id": "f982cd80",
   "metadata": {},
   "source": [
    "http://c.biancheng.net/view/2259.html"
   ]
  },
  {
   "cell_type": "markdown",
   "id": "062fac15",
   "metadata": {},
   "source": [
    "Python变量作用域（全局变量和局部变量）\n",
    "\n",
    "所谓作用域（Scope），就是变量的有效范围，就是变量可以在哪个范围以内使用。\n",
    "\n",
    "有些变量可以在整段代码的任意位置使用，有些变量只能在函数内部使用，有些变量只能在 for 循环内部使用。\n",
    "\n",
    "\n",
    "变量的作用域由变量的定义位置决定，在不同位置定义的变量，它的作用域是不一样的。\n",
    "\n",
    "本节我们只讲解两种变量，**局部变量**和**全局变量**。"
   ]
  },
  {
   "cell_type": "markdown",
   "id": "5e9cd672",
   "metadata": {},
   "source": [
    "## Python局部变量\n",
    "\n",
    "在函数内部定义的变量，它的作用域也仅限于函数内部，出了函数就不能使用了，我们将这样的变量称为局部变量（Local Variable）。\n",
    "\n",
    "要知道，当函数被执行时，Python 会为其分配一块临时的存储空间，所有在函数内部定义的变量，都会存储在这块空间中。\n",
    "\n",
    "而在函数执行完毕后，这块临时存储空间随即会被释放并回收，该空间中存储的变量自然也就无法再被使用。"
   ]
  },
  {
   "cell_type": "code",
   "execution_count": 2,
   "id": "4467fe5c",
   "metadata": {},
   "outputs": [
    {
     "name": "stdout",
     "output_type": "stream",
     "text": [
      "函数内部 add = http://c.biancheng.net/python/\n"
     ]
    },
    {
     "ename": "NameError",
     "evalue": "name 'add' is not defined",
     "output_type": "error",
     "traceback": [
      "\u001b[1;31m---------------------------------------------------------------------------\u001b[0m",
      "\u001b[1;31mNameError\u001b[0m                                 Traceback (most recent call last)",
      "\u001b[1;32m<ipython-input-2-4d0457e74e88>\u001b[0m in \u001b[0;36m<module>\u001b[1;34m\u001b[0m\n\u001b[0;32m      4\u001b[0m \u001b[1;33m\u001b[0m\u001b[0m\n\u001b[0;32m      5\u001b[0m \u001b[0mdemo\u001b[0m\u001b[1;33m(\u001b[0m\u001b[1;33m)\u001b[0m\u001b[1;33m\u001b[0m\u001b[1;33m\u001b[0m\u001b[0m\n\u001b[1;32m----> 6\u001b[1;33m \u001b[0mprint\u001b[0m\u001b[1;33m(\u001b[0m\u001b[1;34m\"函数外部 add =\"\u001b[0m\u001b[1;33m,\u001b[0m\u001b[0madd\u001b[0m\u001b[1;33m)\u001b[0m\u001b[1;33m\u001b[0m\u001b[1;33m\u001b[0m\u001b[0m\n\u001b[0m",
      "\u001b[1;31mNameError\u001b[0m: name 'add' is not defined"
     ]
    }
   ],
   "source": [
    "def demo():\n",
    "    add = \"http://c.biancheng.net/python/\"\n",
    "    print(\"函数内部 add =\",add)\n",
    "\n",
    "demo()\n",
    "print(\"函数外部 add =\",add)"
   ]
  },
  {
   "cell_type": "markdown",
   "id": "92163d40",
   "metadata": {},
   "source": [
    "可以看到，如果试图在函数外部访问其**内部定义的变量**，Python 解释器会报 NameError 错误，并提示我们没有定义要访问的变量.\n",
    "\n",
    "这也证实了当函数执行完毕后，其内部定义的变量会被销毁并回收。"
   ]
  },
  {
   "cell_type": "code",
   "execution_count": 3,
   "id": "23294909",
   "metadata": {},
   "outputs": [
    {
     "name": "stdout",
     "output_type": "stream",
     "text": [
      "函数内部 name = Python教程\n",
      "函数内部 add = http://c.biancheng.net/python/\n"
     ]
    },
    {
     "ename": "NameError",
     "evalue": "name 'name' is not defined",
     "output_type": "error",
     "traceback": [
      "\u001b[1;31m---------------------------------------------------------------------------\u001b[0m",
      "\u001b[1;31mNameError\u001b[0m                                 Traceback (most recent call last)",
      "\u001b[1;32m<ipython-input-3-2b6313518df2>\u001b[0m in \u001b[0;36m<module>\u001b[1;34m\u001b[0m\n\u001b[0;32m      7\u001b[0m \u001b[0mdemo\u001b[0m\u001b[1;33m(\u001b[0m\u001b[1;34m\"Python教程\"\u001b[0m\u001b[1;33m,\u001b[0m\u001b[1;34m\"http://c.biancheng.net/python/\"\u001b[0m\u001b[1;33m)\u001b[0m\u001b[1;33m\u001b[0m\u001b[1;33m\u001b[0m\u001b[0m\n\u001b[0;32m      8\u001b[0m \u001b[1;33m\u001b[0m\u001b[0m\n\u001b[1;32m----> 9\u001b[1;33m \u001b[0mprint\u001b[0m\u001b[1;33m(\u001b[0m\u001b[1;34m\"函数外部 name =\"\u001b[0m\u001b[1;33m,\u001b[0m\u001b[0mname\u001b[0m\u001b[1;33m)\u001b[0m\u001b[1;33m\u001b[0m\u001b[1;33m\u001b[0m\u001b[0m\n\u001b[0m\u001b[0;32m     10\u001b[0m \u001b[0mprint\u001b[0m\u001b[1;33m(\u001b[0m\u001b[1;34m\"函数外部 add =\"\u001b[0m\u001b[1;33m,\u001b[0m\u001b[0madd\u001b[0m\u001b[1;33m)\u001b[0m\u001b[1;33m\u001b[0m\u001b[1;33m\u001b[0m\u001b[0m\n",
      "\u001b[1;31mNameError\u001b[0m: name 'name' is not defined"
     ]
    }
   ],
   "source": [
    "# 值得一提的是，函数的参数也属于局部变量，只能在函数内部使用。例如：\n",
    "\n",
    "def demo(name,add):\n",
    "    print(\"函数内部 name =\",name)\n",
    "    print(\"函数内部 add =\",add)\n",
    "\n",
    "demo(\"Python教程\",\"http://c.biancheng.net/python/\")\n",
    "\n",
    "print(\"函数外部 name =\",name)\n",
    "print(\"函数外部 add =\",add)\n"
   ]
  },
  {
   "cell_type": "code",
   "execution_count": null,
   "id": "b8dafe2a",
   "metadata": {},
   "outputs": [],
   "source": []
  },
  {
   "cell_type": "markdown",
   "id": "24ac35f2",
   "metadata": {},
   "source": [
    "## Python全局变量\n",
    "\n",
    "除了在函数内部定义变量，Python 还允许在**所有函数的外部**定义变量，这样的变量称为全局变量（Global Variable）。\n",
    "\n",
    "和局部变量不同，全局变量的默认作用域是整个程序，即全局变量既可以在各个函数的**外部**使用，也可以在各函数**内部**使用。"
   ]
  },
  {
   "cell_type": "code",
   "execution_count": 4,
   "id": "224a2792",
   "metadata": {},
   "outputs": [
    {
     "name": "stdout",
     "output_type": "stream",
     "text": [
      "函数体内访问： http://c.biancheng.net/shell/\n",
      "函数体外访问： http://c.biancheng.net/shell/\n"
     ]
    }
   ],
   "source": [
    "# 定义全局变量的方式有以下 2 种：\n",
    "# 在函数体外定义的变量，一定是全局变量，例如：\n",
    "\n",
    "add = \"http://c.biancheng.net/shell/\"\n",
    "\n",
    "def text():\n",
    "    print(\"函数体内访问：\",add)\n",
    "\n",
    "text()\n",
    "\n",
    "print('函数体外访问：',add)"
   ]
  },
  {
   "cell_type": "code",
   "execution_count": 5,
   "id": "0c93af30",
   "metadata": {},
   "outputs": [
    {
     "name": "stdout",
     "output_type": "stream",
     "text": [
      "函数体内访问： http://c.biancheng.net/java/\n",
      "函数体外访问： http://c.biancheng.net/java/\n"
     ]
    }
   ],
   "source": [
    "# 在函数体内定义全局变量。\n",
    "# 即使用 global 关键字对变量进行修饰后，该变量就会变为全局变量。例如：\n",
    "\n",
    "def text():\n",
    "    global add\n",
    "    add= \"http://c.biancheng.net/java/\"\n",
    "    print(\"函数体内访问：\",add)\n",
    "    \n",
    "text()\n",
    "\n",
    "print('函数体外访问：',add)\n",
    "\n",
    "# 注意，在使用 global 关键字修饰变量名时，\n",
    "# 不能直接给变量赋初值，否则会引发语法错误。"
   ]
  },
  {
   "cell_type": "code",
   "execution_count": null,
   "id": "70e2b9f5",
   "metadata": {},
   "outputs": [],
   "source": []
  }
 ],
 "metadata": {
  "kernelspec": {
   "display_name": "Python 3",
   "language": "python",
   "name": "python3"
  },
  "language_info": {
   "codemirror_mode": {
    "name": "ipython",
    "version": 3
   },
   "file_extension": ".py",
   "mimetype": "text/x-python",
   "name": "python",
   "nbconvert_exporter": "python",
   "pygments_lexer": "ipython3",
   "version": "3.8.8"
  }
 },
 "nbformat": 4,
 "nbformat_minor": 5
}
