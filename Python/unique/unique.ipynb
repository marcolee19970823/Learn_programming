{
 "cells": [
  {
   "cell_type": "markdown",
   "id": "2bc57c50",
   "metadata": {},
   "source": [
    "https://numpy.org/doc/stable/reference/generated/numpy.unique.html"
   ]
  },
  {
   "cell_type": "code",
   "execution_count": 2,
   "id": "af28bf59",
   "metadata": {},
   "outputs": [],
   "source": [
    "import numpy as np"
   ]
  },
  {
   "cell_type": "code",
   "execution_count": 3,
   "id": "d8811240",
   "metadata": {},
   "outputs": [
    {
     "data": {
      "text/plain": [
       "array([1, 2, 3])"
      ]
     },
     "execution_count": 3,
     "metadata": {},
     "output_type": "execute_result"
    }
   ],
   "source": [
    "np.unique([1, 1, 2, 2, 3, 3])"
   ]
  },
  {
   "cell_type": "code",
   "execution_count": 4,
   "id": "c0b108de",
   "metadata": {},
   "outputs": [
    {
     "data": {
      "text/plain": [
       "array([1, 2, 3])"
      ]
     },
     "execution_count": 4,
     "metadata": {},
     "output_type": "execute_result"
    }
   ],
   "source": [
    "a = np.array([[1, 1], [2, 3]])\n",
    "np.unique(a)"
   ]
  },
  {
   "cell_type": "code",
   "execution_count": 5,
   "id": "0ced51ac",
   "metadata": {},
   "outputs": [
    {
     "data": {
      "text/plain": [
       "array([[1, 0, 0],\n",
       "       [2, 3, 4]])"
      ]
     },
     "execution_count": 5,
     "metadata": {},
     "output_type": "execute_result"
    }
   ],
   "source": [
    "a = np.array([[1, 0, 0], [1, 0, 0], [2, 3, 4]])\n",
    "np.unique(a, axis=0)"
   ]
  },
  {
   "cell_type": "code",
   "execution_count": 7,
   "id": "95f4211d",
   "metadata": {},
   "outputs": [
    {
     "name": "stdout",
     "output_type": "stream",
     "text": [
      "['a' 'b' 'c']\n",
      "[0 1 3]\n"
     ]
    },
    {
     "data": {
      "text/plain": [
       "array(['a', 'b', 'c'], dtype='<U1')"
      ]
     },
     "execution_count": 7,
     "metadata": {},
     "output_type": "execute_result"
    }
   ],
   "source": [
    "a = np.array(['a', 'b', 'b', 'c', 'a'])\n",
    "\n",
    "u, indices = np.unique(a, return_index=True)\n",
    "\n",
    "print(u)\n",
    "print(indices)\n",
    "\n",
    "a[indices]"
   ]
  },
  {
   "cell_type": "code",
   "execution_count": 10,
   "id": "21d1d4a6",
   "metadata": {},
   "outputs": [
    {
     "name": "stdout",
     "output_type": "stream",
     "text": [
      "[1 2 3 4 6]\n",
      "[0 1 4 3 1 2 1]\n",
      "[1 2 6 4 2 3 2]\n"
     ]
    }
   ],
   "source": [
    "a = np.array([1, 2, 6, 4, 2, 3, 2])\n",
    "\n",
    "u, indices = np.unique(a, return_inverse=True)\n",
    "\n",
    "print(u)\n",
    "print(indices)\n",
    "print(u[indices])"
   ]
  },
  {
   "cell_type": "code",
   "execution_count": 12,
   "id": "b2567fa3",
   "metadata": {},
   "outputs": [
    {
     "name": "stdout",
     "output_type": "stream",
     "text": [
      "[1 2 3 4 6]\n",
      "[1 3 1 1 1]\n"
     ]
    },
    {
     "data": {
      "text/plain": [
       "array([1, 2, 2, 2, 3, 4, 6])"
      ]
     },
     "execution_count": 12,
     "metadata": {},
     "output_type": "execute_result"
    }
   ],
   "source": [
    "a = np.array([1, 2, 6, 4, 2, 3, 2])\n",
    "\n",
    "values, counts = np.unique(a, return_counts=True)\n",
    "\n",
    "print(values)\n",
    "print(counts)\n",
    "np.repeat(values, counts)"
   ]
  },
  {
   "cell_type": "markdown",
   "id": "1d69f8e2",
   "metadata": {},
   "source": [
    "geeksforgeeks.org/python-get-unique-values-list/"
   ]
  },
  {
   "cell_type": "code",
   "execution_count": 13,
   "id": "9674f3b4",
   "metadata": {},
   "outputs": [
    {
     "name": "stdout",
     "output_type": "stream",
     "text": [
      "the unique values from 1st list is\n",
      "[10 20 30 40]\n",
      "\n",
      "the unique values from 2nd list is\n",
      "[1 2 3 4 5]\n"
     ]
    }
   ],
   "source": [
    "import numpy as np\n",
    " \n",
    "# function to get unique values\n",
    "def unique(list1):\n",
    "    x = np.array(list1)\n",
    "    print(np.unique(x))\n",
    "      \n",
    "# driver code\n",
    "list1 = [10, 20, 10, 30, 40, 40]\n",
    "print(\"the unique values from 1st list is\")\n",
    "unique(list1)\n",
    " \n",
    "list2 =[1, 2, 1, 1, 3, 4, 3, 3, 5]\n",
    "print(\"\\nthe unique values from 2nd list is\")\n",
    "unique(list2)"
   ]
  },
  {
   "cell_type": "markdown",
   "id": "6e08b6c7",
   "metadata": {},
   "source": [
    "https://pandas.pydata.org/docs/reference/api/pandas.unique.html"
   ]
  },
  {
   "cell_type": "code",
   "execution_count": 14,
   "id": "2aa80386",
   "metadata": {},
   "outputs": [],
   "source": [
    "import pandas as pd"
   ]
  },
  {
   "cell_type": "code",
   "execution_count": 15,
   "id": "e57126c5",
   "metadata": {},
   "outputs": [
    {
     "data": {
      "text/plain": [
       "array([2, 1, 3], dtype=int64)"
      ]
     },
     "execution_count": 15,
     "metadata": {},
     "output_type": "execute_result"
    }
   ],
   "source": [
    "pd.unique(pd.Series([2, 1, 3, 3]))"
   ]
  },
  {
   "cell_type": "code",
   "execution_count": 17,
   "id": "7c586c88",
   "metadata": {},
   "outputs": [
    {
     "name": "stdout",
     "output_type": "stream",
     "text": [
      "0    2\n",
      "1    1\n",
      "2    1\n",
      "3    1\n",
      "4    1\n",
      "5    1\n",
      "dtype: int64\n"
     ]
    },
    {
     "data": {
      "text/plain": [
       "array([2, 1], dtype=int64)"
      ]
     },
     "execution_count": 17,
     "metadata": {},
     "output_type": "execute_result"
    }
   ],
   "source": [
    "print(pd.Series([2] + [1] * 5))\n",
    "\n",
    "pd.unique(pd.Series([2] + [1] * 5))"
   ]
  },
  {
   "cell_type": "code",
   "execution_count": 19,
   "id": "42be3550",
   "metadata": {},
   "outputs": [
    {
     "name": "stdout",
     "output_type": "stream",
     "text": [
      "0   2016-01-01\n",
      "1   2016-01-01\n",
      "dtype: datetime64[ns]\n"
     ]
    },
    {
     "data": {
      "text/plain": [
       "array(['2016-01-01T00:00:00.000000000'], dtype='datetime64[ns]')"
      ]
     },
     "execution_count": 19,
     "metadata": {},
     "output_type": "execute_result"
    }
   ],
   "source": [
    "print(pd.Series([pd.Timestamp(\"20160101\"), pd.Timestamp(\"20160101\")]))\n",
    "\n",
    "pd.unique(pd.Series([pd.Timestamp(\"20160101\"), pd.Timestamp(\"20160101\")]))"
   ]
  },
  {
   "cell_type": "code",
   "execution_count": 20,
   "id": "69f81a4e",
   "metadata": {},
   "outputs": [
    {
     "data": {
      "text/plain": [
       "array(['b', 'a', 'c'], dtype=object)"
      ]
     },
     "execution_count": 20,
     "metadata": {},
     "output_type": "execute_result"
    }
   ],
   "source": [
    "pd.unique(list(\"baabc\"))"
   ]
  },
  {
   "cell_type": "code",
   "execution_count": 21,
   "id": "bd0cf809",
   "metadata": {},
   "outputs": [
    {
     "data": {
      "text/plain": [
       "array([('a', 'b'), ('b', 'a'), ('a', 'c')], dtype=object)"
      ]
     },
     "execution_count": 21,
     "metadata": {},
     "output_type": "execute_result"
    }
   ],
   "source": [
    "pd.unique([(\"a\", \"b\"), (\"b\", \"a\"), (\"a\", \"c\"), (\"b\", \"a\")])"
   ]
  },
  {
   "cell_type": "markdown",
   "id": "82124cd0",
   "metadata": {},
   "source": [
    "https://pandas.pydata.org/docs/reference/api/pandas.Series.unique.html?highlight=unique#pandas.Series.unique"
   ]
  },
  {
   "cell_type": "code",
   "execution_count": 22,
   "id": "aada1052",
   "metadata": {},
   "outputs": [
    {
     "data": {
      "text/plain": [
       "array([2, 1, 3], dtype=int64)"
      ]
     },
     "execution_count": 22,
     "metadata": {},
     "output_type": "execute_result"
    }
   ],
   "source": [
    "pd.Series([2, 1, 3, 3], name='A').unique()"
   ]
  },
  {
   "cell_type": "code",
   "execution_count": 23,
   "id": "3540bf13",
   "metadata": {},
   "outputs": [
    {
     "name": "stdout",
     "output_type": "stream",
     "text": [
      "0   2016-01-01\n",
      "1   2016-01-01\n",
      "2   2016-01-01\n",
      "dtype: datetime64[ns]\n"
     ]
    },
    {
     "data": {
      "text/plain": [
       "array(['2016-01-01T00:00:00.000000000'], dtype='datetime64[ns]')"
      ]
     },
     "execution_count": 23,
     "metadata": {},
     "output_type": "execute_result"
    }
   ],
   "source": [
    "a = pd.Series([pd.Timestamp('2016-01-01') for _ in range(3)])\n",
    "print(a)\n",
    "a.unique()"
   ]
  },
  {
   "cell_type": "code",
   "execution_count": 24,
   "id": "02c0d094",
   "metadata": {},
   "outputs": [
    {
     "name": "stdout",
     "output_type": "stream",
     "text": [
      "0   2016-01-01 00:00:00-05:00\n",
      "1   2016-01-01 00:00:00-05:00\n",
      "2   2016-01-01 00:00:00-05:00\n",
      "dtype: datetime64[ns, US/Eastern]\n"
     ]
    },
    {
     "data": {
      "text/plain": [
       "<DatetimeArray>\n",
       "['2016-01-01 00:00:00-05:00']\n",
       "Length: 1, dtype: datetime64[ns, US/Eastern]"
      ]
     },
     "execution_count": 24,
     "metadata": {},
     "output_type": "execute_result"
    }
   ],
   "source": [
    "a = pd.Series([pd.Timestamp('2016-01-01', tz='US/Eastern')\n",
    "           for _ in range(3)])\n",
    "print(a)\n",
    "a.unique()"
   ]
  },
  {
   "cell_type": "code",
   "execution_count": 25,
   "id": "80292627",
   "metadata": {},
   "outputs": [
    {
     "name": "stdout",
     "output_type": "stream",
     "text": [
      "0    b\n",
      "1    a\n",
      "2    a\n",
      "3    b\n",
      "4    c\n",
      "dtype: category\n",
      "Categories (3, object): ['a', 'b', 'c']\n"
     ]
    },
    {
     "data": {
      "text/plain": [
       "['b', 'a', 'c']\n",
       "Categories (3, object): ['b', 'a', 'c']"
      ]
     },
     "execution_count": 25,
     "metadata": {},
     "output_type": "execute_result"
    }
   ],
   "source": [
    "a = pd.Series(pd.Categorical(list('baabc')))\n",
    "print(a)\n",
    "a.unique()"
   ]
  },
  {
   "cell_type": "code",
   "execution_count": 26,
   "id": "1e0bf6ee",
   "metadata": {},
   "outputs": [
    {
     "name": "stdout",
     "output_type": "stream",
     "text": [
      "0    b\n",
      "1    a\n",
      "2    a\n",
      "3    b\n",
      "4    c\n",
      "dtype: category\n",
      "Categories (3, object): ['a' < 'b' < 'c']\n"
     ]
    },
    {
     "data": {
      "text/plain": [
       "['b', 'a', 'c']\n",
       "Categories (3, object): ['a' < 'b' < 'c']"
      ]
     },
     "execution_count": 26,
     "metadata": {},
     "output_type": "execute_result"
    }
   ],
   "source": [
    "a = pd.Series(pd.Categorical(list('baabc'), categories=list('abc'),\n",
    "                         ordered=True))\n",
    "print(a)\n",
    "a.unique()"
   ]
  },
  {
   "cell_type": "code",
   "execution_count": null,
   "id": "4daad576",
   "metadata": {},
   "outputs": [],
   "source": []
  }
 ],
 "metadata": {
  "kernelspec": {
   "display_name": "Python 3",
   "language": "python",
   "name": "python3"
  },
  "language_info": {
   "codemirror_mode": {
    "name": "ipython",
    "version": 3
   },
   "file_extension": ".py",
   "mimetype": "text/x-python",
   "name": "python",
   "nbconvert_exporter": "python",
   "pygments_lexer": "ipython3",
   "version": "3.8.8"
  }
 },
 "nbformat": 4,
 "nbformat_minor": 5
}
