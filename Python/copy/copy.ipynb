{
 "cells": [
  {
   "cell_type": "markdown",
   "id": "f7d68de7",
   "metadata": {},
   "source": [
    "https://www.programiz.com/python-programming/methods/list/copy"
   ]
  },
  {
   "cell_type": "code",
   "execution_count": 26,
   "id": "9bfb3763",
   "metadata": {},
   "outputs": [
    {
     "name": "stdout",
     "output_type": "stream",
     "text": [
      "Copied List: [2, 3, 5]\n"
     ]
    }
   ],
   "source": [
    "prime_numbers = [2, 3, 5]\n",
    "\n",
    "numbers = prime_numbers.copy()\n",
    "\n",
    "print('Copied List:', numbers)"
   ]
  },
  {
   "cell_type": "code",
   "execution_count": 27,
   "id": "daa740b8",
   "metadata": {},
   "outputs": [
    {
     "name": "stdout",
     "output_type": "stream",
     "text": [
      "Copied List: ['cat', 0, 6.7]\n",
      "================================\n",
      "New List: ['cat', 0, 6.7, 'a']\n",
      "my_list: ['cat', 0, 6.7]\n"
     ]
    }
   ],
   "source": [
    "my_list = ['cat', 0, 6.7]\n",
    "\n",
    "# copying a list\n",
    "new_list = my_list.copy()\n",
    "\n",
    "print('Copied List:', new_list)\n",
    "\n",
    "print(\"================================\")\n",
    "\n",
    "new_list.append('a')\n",
    "\n",
    "print('New List:', new_list)\n",
    "print('my_list:', my_list)"
   ]
  },
  {
   "cell_type": "code",
   "execution_count": 28,
   "id": "b50b445d",
   "metadata": {},
   "outputs": [
    {
     "name": "stdout",
     "output_type": "stream",
     "text": [
      "New List: [1, 2, 3, 'a']\n",
      "Old List: [1, 2, 3, 'a']\n"
     ]
    }
   ],
   "source": [
    "old_list = [1, 2, 3]\n",
    "\n",
    "# copy list using =\n",
    "new_list = old_list\n",
    "\n",
    "# add an element to list\n",
    "new_list.append('a')\n",
    "\n",
    "print('New List:', new_list)\n",
    "print('Old List:', old_list)"
   ]
  },
  {
   "cell_type": "code",
   "execution_count": 29,
   "id": "488cf566",
   "metadata": {},
   "outputs": [
    {
     "name": "stdout",
     "output_type": "stream",
     "text": [
      "Old List: ['cat', 0, 6.7]\n",
      "New List: ['cat', 0, 6.7, 'dog']\n"
     ]
    }
   ],
   "source": [
    "# shallow copy using the slicing syntax\n",
    "\n",
    "# mixed list\n",
    "list = ['cat', 0, 6.7]\n",
    "\n",
    "# copying a list using slicing\n",
    "new_list = list[:]\n",
    "\n",
    "# Adding an element to the new list\n",
    "new_list.append('dog')\n",
    "\n",
    "# Printing new and old list\n",
    "print('Old List:', list)\n",
    "print('New List:', new_list)"
   ]
  },
  {
   "cell_type": "markdown",
   "id": "90eea7d4",
   "metadata": {},
   "source": [
    "https://realpython.com/copying-python-objects/#making-shallow-copies"
   ]
  },
  {
   "cell_type": "code",
   "execution_count": 30,
   "id": "a73f5bc5",
   "metadata": {},
   "outputs": [
    {
     "ename": "TypeError",
     "evalue": "'list' object is not callable",
     "output_type": "error",
     "traceback": [
      "\u001b[1;31m---------------------------------------------------------------------------\u001b[0m",
      "\u001b[1;31mTypeError\u001b[0m                                 Traceback (most recent call last)",
      "\u001b[1;32m<ipython-input-30-93639987cb5a>\u001b[0m in \u001b[0;36m<module>\u001b[1;34m\u001b[0m\n\u001b[0;32m      1\u001b[0m \u001b[0mxs\u001b[0m \u001b[1;33m=\u001b[0m \u001b[1;33m[\u001b[0m\u001b[1;33m[\u001b[0m\u001b[1;36m1\u001b[0m\u001b[1;33m,\u001b[0m \u001b[1;36m2\u001b[0m\u001b[1;33m,\u001b[0m \u001b[1;36m3\u001b[0m\u001b[1;33m]\u001b[0m\u001b[1;33m,\u001b[0m \u001b[1;33m[\u001b[0m\u001b[1;36m4\u001b[0m\u001b[1;33m,\u001b[0m \u001b[1;36m5\u001b[0m\u001b[1;33m,\u001b[0m \u001b[1;36m6\u001b[0m\u001b[1;33m]\u001b[0m\u001b[1;33m,\u001b[0m \u001b[1;33m[\u001b[0m\u001b[1;36m7\u001b[0m\u001b[1;33m,\u001b[0m \u001b[1;36m8\u001b[0m\u001b[1;33m,\u001b[0m \u001b[1;36m9\u001b[0m\u001b[1;33m]\u001b[0m\u001b[1;33m]\u001b[0m\u001b[1;33m\u001b[0m\u001b[1;33m\u001b[0m\u001b[0m\n\u001b[1;32m----> 2\u001b[1;33m \u001b[0mys\u001b[0m \u001b[1;33m=\u001b[0m \u001b[0mlist\u001b[0m\u001b[1;33m(\u001b[0m\u001b[0mxs\u001b[0m\u001b[1;33m)\u001b[0m  \u001b[1;31m# Make a shallow copy\u001b[0m\u001b[1;33m\u001b[0m\u001b[1;33m\u001b[0m\u001b[0m\n\u001b[0m\u001b[0;32m      3\u001b[0m \u001b[1;33m\u001b[0m\u001b[0m\n\u001b[0;32m      4\u001b[0m \u001b[0mprint\u001b[0m\u001b[1;33m(\u001b[0m\u001b[0mxs\u001b[0m\u001b[1;33m)\u001b[0m\u001b[1;33m\u001b[0m\u001b[1;33m\u001b[0m\u001b[0m\n\u001b[0;32m      5\u001b[0m \u001b[0mprint\u001b[0m\u001b[1;33m(\u001b[0m\u001b[0mys\u001b[0m\u001b[1;33m)\u001b[0m\u001b[1;33m\u001b[0m\u001b[1;33m\u001b[0m\u001b[0m\n",
      "\u001b[1;31mTypeError\u001b[0m: 'list' object is not callable"
     ]
    }
   ],
   "source": [
    "xs = [[1, 2, 3], [4, 5, 6], [7, 8, 9]]\n",
    "ys = list(xs)  # Make a shallow copy\n",
    "\n",
    "print(xs)\n",
    "print(ys)"
   ]
  },
  {
   "cell_type": "markdown",
   "id": "81dd6680",
   "metadata": {},
   "source": [
    "https://www.youtube.com/watch?v=naG4uXpmVAU"
   ]
  },
  {
   "cell_type": "code",
   "execution_count": 31,
   "id": "024958b6",
   "metadata": {},
   "outputs": [
    {
     "name": "stdout",
     "output_type": "stream",
     "text": [
      "numbers:  [9, 2, 3, 4, 5]\n",
      "ID of numbers:  1598367629568\n",
      "===============================\n",
      "new_numbers:  [9, 2, 3, 4, 5]\n",
      "ID of new_numbers:  1598367629568\n"
     ]
    }
   ],
   "source": [
    "numbers = [1,2,3,4,5]\n",
    "\n",
    "new_numbers = numbers\n",
    "\n",
    "new_numbers[0] = 9\n",
    "\n",
    "print(\"numbers: \", numbers)\n",
    "print(\"ID of numbers: \", id(numbers))\n",
    "\n",
    "print(\"===============================\")\n",
    "\n",
    "print(\"new_numbers: \", new_numbers)\n",
    "print(\"ID of new_numbers: \", id(new_numbers))"
   ]
  },
  {
   "cell_type": "code",
   "execution_count": 32,
   "id": "ea7b04c7",
   "metadata": {},
   "outputs": [
    {
     "name": "stdout",
     "output_type": "stream",
     "text": [
      "old_list:  [[1, 2, 3], [4, 5, 6], [7, 8, 9]]\n",
      "new_list:  [['a', 'b', 'c'], [4, 5, 6], [7, 8, 9]]\n"
     ]
    }
   ],
   "source": [
    "# shallow copy\n",
    "\n",
    "import copy\n",
    "\n",
    "old_list= [[1, 2, 3], [4, 5, 6], [7, 8, 9]]\n",
    "\n",
    "new_list = copy.copy(old_list)\n",
    "\n",
    "new_list[0] = ['a', 'b', 'c']\n",
    "\n",
    "print(\"old_list: \", old_list)\n",
    "print(\"new_list: \", new_list)"
   ]
  },
  {
   "cell_type": "code",
   "execution_count": 33,
   "id": "a2f93391",
   "metadata": {},
   "outputs": [
    {
     "name": "stdout",
     "output_type": "stream",
     "text": [
      "old_list:  [[1, 2, 'c'], [4, 5, 6], [7, 8, 9]]\n",
      "new_list:  [[1, 2, 'c'], [4, 5, 6], [7, 8, 9]]\n"
     ]
    }
   ],
   "source": [
    "# shallow copy is NOT sufficient\n",
    "\n",
    "import copy\n",
    "\n",
    "old_list= [[1, 2, 3], [4, 5, 6], [7, 8, 9]]\n",
    "\n",
    "new_list = copy.copy(old_list)\n",
    "\n",
    "new_list[0][2] = 'c'\n",
    "\n",
    "print(\"old_list: \", old_list)\n",
    "print(\"new_list: \", new_list)"
   ]
  },
  {
   "cell_type": "code",
   "execution_count": 34,
   "id": "089aec9f",
   "metadata": {},
   "outputs": [
    {
     "name": "stdout",
     "output_type": "stream",
     "text": [
      "old_list:  [[1, 2, 3], [4, 5, 6], [7, 8, 9]]\n",
      "new_list:  [[1, 2, 3], [4, 5, 6], [7, 8, 9], [10, 11, 12]]\n"
     ]
    }
   ],
   "source": [
    "# shallow copy \n",
    "# append operation\n",
    "\n",
    "import copy\n",
    "\n",
    "old_list= [[1, 2, 3], [4, 5, 6], [7, 8, 9]]\n",
    "\n",
    "new_list = copy.copy(old_list)\n",
    "\n",
    "new_list.append([10, 11, 12])\n",
    "\n",
    "print(\"old_list: \", old_list)\n",
    "print(\"new_list: \", new_list) # shallow copy is OK"
   ]
  },
  {
   "cell_type": "code",
   "execution_count": 35,
   "id": "49dd27d3",
   "metadata": {},
   "outputs": [
    {
     "name": "stdout",
     "output_type": "stream",
     "text": [
      "old_list:  [[1, 2, 3], [4, 5, 6], [7, 8, 9]]\n",
      "new_list:  [[1, 2, 'c'], [4, 5, 6], [7, 8, 9]]\n"
     ]
    }
   ],
   "source": [
    "# deep copy\n",
    "\n",
    "import copy\n",
    "\n",
    "old_list= [[1, 2, 3], [4, 5, 6], [7, 8, 9]]\n",
    "\n",
    "new_list = copy.deepcopy(old_list)\n",
    "\n",
    "new_list[0][2] = 'c'\n",
    "\n",
    "print(\"old_list: \", old_list)\n",
    "print(\"new_list: \", new_list)"
   ]
  },
  {
   "cell_type": "code",
   "execution_count": null,
   "id": "1fa1d6c2",
   "metadata": {},
   "outputs": [],
   "source": []
  }
 ],
 "metadata": {
  "kernelspec": {
   "display_name": "Python 3",
   "language": "python",
   "name": "python3"
  },
  "language_info": {
   "codemirror_mode": {
    "name": "ipython",
    "version": 3
   },
   "file_extension": ".py",
   "mimetype": "text/x-python",
   "name": "python",
   "nbconvert_exporter": "python",
   "pygments_lexer": "ipython3",
   "version": "3.8.8"
  }
 },
 "nbformat": 4,
 "nbformat_minor": 5
}
