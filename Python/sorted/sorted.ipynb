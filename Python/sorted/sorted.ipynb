{
 "cells": [
  {
   "cell_type": "markdown",
   "id": "cedb60cb",
   "metadata": {},
   "source": [
    "https://www.programiz.com/python-programming/methods/built-in/sorted"
   ]
  },
  {
   "cell_type": "code",
   "execution_count": 1,
   "id": "656d3fea",
   "metadata": {},
   "outputs": [
    {
     "name": "stdout",
     "output_type": "stream",
     "text": [
      "[2, 4, 8, 12]\n"
     ]
    }
   ],
   "source": [
    "numbers = [4, 2, 12, 8]\n",
    "\n",
    "sorted_numbers = sorted(numbers)\n",
    "print(sorted_numbers)"
   ]
  },
  {
   "cell_type": "code",
   "execution_count": 2,
   "id": "3ae517ab",
   "metadata": {},
   "outputs": [
    {
     "name": "stdout",
     "output_type": "stream",
     "text": [
      "['a', 'e', 'i', 'o', 'u']\n",
      "['P', 'h', 'n', 'o', 't', 'y']\n",
      "['a', 'e', 'i', 'o', 'u']\n"
     ]
    }
   ],
   "source": [
    "# vowels list\n",
    "py_list = ['e', 'a', 'u', 'o', 'i']\n",
    "print(sorted(py_list))\n",
    "\n",
    "# string\n",
    "py_string = 'Python'\n",
    "print(sorted(py_string))\n",
    "\n",
    "# vowels tuple\n",
    "py_tuple = ('e', 'a', 'u', 'o', 'i')\n",
    "print(sorted(py_tuple))\n"
   ]
  },
  {
   "cell_type": "code",
   "execution_count": 3,
   "id": "00bab83d",
   "metadata": {},
   "outputs": [
    {
     "name": "stdout",
     "output_type": "stream",
     "text": [
      "['u', 'o', 'i', 'e', 'a']\n",
      "['u', 'o', 'i', 'e', 'a']\n",
      "['u', 'o', 'i', 'e', 'a']\n"
     ]
    }
   ],
   "source": [
    "# set\n",
    "py_set = {'e', 'a', 'u', 'o', 'i'}\n",
    "print(sorted(py_set, reverse=True))\n",
    "\n",
    "# dictionary\n",
    "py_dict = {'e': 1, 'a': 2, 'u': 3, 'o': 4, 'i': 5}\n",
    "print(sorted(py_dict, reverse=True))\n",
    "\n",
    "# frozen set\n",
    "frozen_set = frozenset(('e', 'a', 'u', 'o', 'i'))\n",
    "print(sorted(frozen_set, reverse=True))\n"
   ]
  },
  {
   "cell_type": "code",
   "execution_count": 4,
   "id": "21780287",
   "metadata": {},
   "outputs": [
    {
     "name": "stdout",
     "output_type": "stream",
     "text": [
      "Sorted list: [(4, 1), (2, 2), (1, 3), (3, 4)]\n"
     ]
    }
   ],
   "source": [
    "# take the second element for sort\n",
    "def take_second(elem):\n",
    "    return elem[1]\n",
    "\n",
    "# random list\n",
    "random = [(2, 2), (3, 4), (4, 1), (1, 3)]\n",
    "\n",
    "# sort list with key\n",
    "sorted_list = sorted(random, key=take_second)\n",
    "\n",
    "# print list\n",
    "print('Sorted list:', sorted_list)"
   ]
  },
  {
   "cell_type": "markdown",
   "id": "ab52f0a3",
   "metadata": {},
   "source": [
    "We want to sort the list in such a way that the student with the highest marks is in the beginning. In case the students have equal marks, they must be sorted so that the younger participant comes first."
   ]
  },
  {
   "cell_type": "code",
   "execution_count": 5,
   "id": "96e0b696",
   "metadata": {},
   "outputs": [
    {
     "name": "stdout",
     "output_type": "stream",
     "text": [
      "[('Jimmy', 90, 22), ('Terence', 75, 12), ('David', 75, 20), ('Alison', 50, 18), ('John', 45, 12)]\n"
     ]
    }
   ],
   "source": [
    "# Nested list of student's info in a Science Olympiad\n",
    "# List elements: (Student's Name, Marks out of 100 , Age)\n",
    "participant_list = [\n",
    "    ('Alison', 50, 18),\n",
    "    ('Terence', 75, 12),\n",
    "    ('David', 75, 20),\n",
    "    ('Jimmy', 90, 22),\n",
    "    ('John', 45, 12)\n",
    "]\n",
    "\n",
    "def sorter(item):\n",
    "    # Since highest marks first, least error = most marks\n",
    "    error = 100 - item[1]\n",
    "    age = item[2]\n",
    "    return (error, age)\n",
    "\n",
    "sorted_list = sorted(participant_list, key=sorter)\n",
    "print(sorted_list)"
   ]
  },
  {
   "cell_type": "code",
   "execution_count": 6,
   "id": "56de4012",
   "metadata": {},
   "outputs": [
    {
     "name": "stdout",
     "output_type": "stream",
     "text": [
      "[('Jimmy', 90, 22), ('Terence', 75, 12), ('David', 75, 20), ('Alison', 50, 18), ('John', 45, 12)]\n"
     ]
    }
   ],
   "source": [
    "# Nested list of student's info in a Science Olympiad\n",
    "# List elements: (Student's Name, Marks out of 100 , Age)\n",
    "participant_list = [\n",
    "    ('Alison', 50, 18),\n",
    "    ('Terence', 75, 12),\n",
    "    ('David', 75, 20),\n",
    "    ('Jimmy', 90, 22),\n",
    "    ('John', 45, 12)\n",
    "]\n",
    "\n",
    "sorted_list = sorted(participant_list, key=lambda item: (100-item[1], item[2]))\n",
    "print(sorted_list)"
   ]
  },
  {
   "cell_type": "markdown",
   "id": "ce394a3b",
   "metadata": {},
   "source": [
    "https://www.w3schools.com/python/ref_func_sorted.asp"
   ]
  },
  {
   "cell_type": "code",
   "execution_count": 7,
   "id": "d31c43ed",
   "metadata": {},
   "outputs": [
    {
     "name": "stdout",
     "output_type": "stream",
     "text": [
      "['a', 'b', 'c', 'd', 'e', 'f', 'g', 'h']\n"
     ]
    }
   ],
   "source": [
    "a = (\"b\", \"g\", \"a\", \"d\", \"f\", \"c\", \"h\", \"e\")\n",
    "x = sorted(a)\n",
    "print(x)"
   ]
  },
  {
   "cell_type": "markdown",
   "id": "e941faa4",
   "metadata": {},
   "source": [
    "https://www.w3schools.com/python/ref_func_sorted.asp"
   ]
  },
  {
   "cell_type": "code",
   "execution_count": 8,
   "id": "cf33ba65",
   "metadata": {},
   "outputs": [
    {
     "name": "stdout",
     "output_type": "stream",
     "text": [
      "['a', 'b', 'c', 'd', 'e', 'f', 'g', 'h']\n"
     ]
    }
   ],
   "source": [
    "a = (\"b\", \"g\", \"a\", \"d\", \"f\", \"c\", \"h\", \"e\")\n",
    "x = sorted(a)\n",
    "print(x)"
   ]
  },
  {
   "cell_type": "code",
   "execution_count": 9,
   "id": "820750ef",
   "metadata": {},
   "outputs": [
    {
     "name": "stdout",
     "output_type": "stream",
     "text": [
      "[1, 2, 11]\n"
     ]
    }
   ],
   "source": [
    "a = (1, 11, 2)\n",
    "x = sorted(a)\n",
    "print(x)"
   ]
  },
  {
   "cell_type": "code",
   "execution_count": 10,
   "id": "b3f0f6c8",
   "metadata": {},
   "outputs": [
    {
     "name": "stdout",
     "output_type": "stream",
     "text": [
      "['a', 'b', 'c', 'd', 'e', 'f', 'g', 'h']\n"
     ]
    }
   ],
   "source": [
    "a = (\"h\", \"b\", \"a\", \"c\", \"f\", \"d\", \"e\", \"g\")\n",
    "x = sorted(a)\n",
    "print(x)"
   ]
  },
  {
   "cell_type": "code",
   "execution_count": 11,
   "id": "d25e7d6c",
   "metadata": {},
   "outputs": [
    {
     "name": "stdout",
     "output_type": "stream",
     "text": [
      "['h', 'g', 'f', 'e', 'd', 'c', 'b', 'a']\n"
     ]
    }
   ],
   "source": [
    "a = (\"h\", \"b\", \"a\", \"c\", \"f\", \"d\", \"e\", \"g\")\n",
    "x = sorted(a, reverse=True)\n",
    "print(x)"
   ]
  },
  {
   "cell_type": "markdown",
   "id": "c6abc149",
   "metadata": {},
   "source": [
    "https://realpython.com/python-sort/#ordering-values-with-sorted"
   ]
  },
  {
   "cell_type": "code",
   "execution_count": 12,
   "id": "8e94cf93",
   "metadata": {},
   "outputs": [
    {
     "name": "stdout",
     "output_type": "stream",
     "text": [
      "[1, 3, 6, 9]\n",
      "[6, 9, 3, 1]\n"
     ]
    }
   ],
   "source": [
    "numbers = [6, 9, 3, 1]\n",
    "print(sorted(numbers))\n",
    "print(numbers)"
   ]
  },
  {
   "cell_type": "code",
   "execution_count": 13,
   "id": "32214c0b",
   "metadata": {},
   "outputs": [
    {
     "name": "stdout",
     "output_type": "stream",
     "text": [
      "[1, 3, 6, 9]\n",
      "[6, 9, 3, 1]\n"
     ]
    }
   ],
   "source": [
    "numbers = [6, 9, 3, 1]\n",
    "numbers_sorted = sorted(numbers)\n",
    "print(numbers_sorted)\n",
    "print(numbers)"
   ]
  },
  {
   "cell_type": "code",
   "execution_count": 14,
   "id": "9978b484",
   "metadata": {},
   "outputs": [
    {
     "name": "stdout",
     "output_type": "stream",
     "text": [
      "Help on built-in function sorted in module builtins:\n",
      "\n",
      "sorted(iterable, /, *, key=None, reverse=False)\n",
      "    Return a new list containing all items from the iterable in ascending order.\n",
      "    \n",
      "    A custom key function can be supplied to customize the sort order, and the\n",
      "    reverse flag can be set to request the result in descending order.\n",
      "\n"
     ]
    }
   ],
   "source": [
    "help(sorted)"
   ]
  },
  {
   "cell_type": "code",
   "execution_count": 15,
   "id": "9af0fab7",
   "metadata": {},
   "outputs": [
    {
     "name": "stdout",
     "output_type": "stream",
     "text": [
      "[1, 3, 6, 9]\n",
      "[0, 1, 5, 10]\n"
     ]
    }
   ],
   "source": [
    "numbers_tuple = (6, 9, 3, 1)\n",
    "numbers_set = {5, 5, 10, 1, 0}\n",
    "\n",
    "numbers_tuple_sorted = sorted(numbers_tuple)\n",
    "numbers_set_sorted = sorted(numbers_set)\n",
    "\n",
    "print(numbers_tuple_sorted)\n",
    "print(numbers_set_sorted)"
   ]
  },
  {
   "cell_type": "code",
   "execution_count": 16,
   "id": "b855ce32",
   "metadata": {},
   "outputs": [
    {
     "name": "stdout",
     "output_type": "stream",
     "text": [
      "[1, 3, 6, 9]\n",
      "[0, 1, 5, 10]\n",
      "(1, 3, 6, 9)\n",
      "{0, 1, 10, 5}\n"
     ]
    }
   ],
   "source": [
    "numbers_tuple = (6, 9, 3, 1)\n",
    "numbers_set = {5, 5, 10, 1, 0}\n",
    "\n",
    "numbers_tuple_sorted = sorted(numbers_tuple)\n",
    "numbers_set_sorted = sorted(numbers_set)\n",
    "\n",
    "print(numbers_tuple_sorted)\n",
    "print(numbers_set_sorted)\n",
    "\n",
    "print(tuple(numbers_tuple_sorted))\n",
    "print(set(numbers_set_sorted)) # be careful!\n",
    "# Be careful if attempting to cast the resulting list back to a set, as a set by definition is unordered"
   ]
  },
  {
   "cell_type": "code",
   "execution_count": 17,
   "id": "d7c21973",
   "metadata": {},
   "outputs": [
    {
     "name": "stdout",
     "output_type": "stream",
     "text": [
      "['1', '2', '3', '4', '5']\n",
      "[' ', ' ', ' ', 'I', 'e', 'i', 'k', 'l', 'o', 'o', 'r', 's', 't', 't']\n"
     ]
    }
   ],
   "source": [
    "string_number_value = '34521'\n",
    "string_value = 'I like to sort'\n",
    "\n",
    "sorted_string_number = sorted(string_number_value)\n",
    "sorted_string = sorted(string_value)\n",
    "\n",
    "print(sorted_string_number)\n",
    "print(sorted_string)"
   ]
  },
  {
   "cell_type": "code",
   "execution_count": 19,
   "id": "8bd1030f",
   "metadata": {},
   "outputs": [
    {
     "name": "stdout",
     "output_type": "stream",
     "text": [
      "['I', 'like', 'sort', 'to']\n",
      "I like sort to\n"
     ]
    }
   ],
   "source": [
    "string_value = 'I like to sort'\n",
    "sorted_string = sorted(string_value.split())\n",
    "\n",
    "print(sorted_string)\n",
    "print(' '.join(sorted_string))"
   ]
  },
  {
   "cell_type": "code",
   "execution_count": 20,
   "id": "a626ec38",
   "metadata": {},
   "outputs": [
    {
     "name": "stdout",
     "output_type": "stream",
     "text": [
      "['Al', 'Harry', 'Mark', 'Suzy']\n",
      "['Suzy', 'Mark', 'Harry', 'Al']\n"
     ]
    }
   ],
   "source": [
    "names = ['Harry', 'Suzy', 'Al', 'Mark']\n",
    "print(sorted(names))\n",
    "print(sorted(names, reverse=True))"
   ]
  },
  {
   "cell_type": "code",
   "execution_count": 22,
   "id": "ac743b2d",
   "metadata": {},
   "outputs": [
    {
     "name": "stdout",
     "output_type": "stream",
     "text": [
      "['harry', 'al', 'Suzy', 'Mark']\n",
      "[1, False, False, False]\n",
      "[1, 3, 6, 9]\n"
     ]
    }
   ],
   "source": [
    "names_with_case = ['harry', 'Suzy', 'al', 'Mark']\n",
    "print(sorted(names_with_case, reverse=True))\n",
    "\n",
    "similar_values = [False, 1, 'A' == 'B', 1 <= 0]\n",
    "print(sorted(similar_values, reverse=True))\n",
    "\n",
    "numbers = [6, 9, 3, 1]\n",
    "print(sorted(numbers, reverse=False))"
   ]
  },
  {
   "cell_type": "code",
   "execution_count": 23,
   "id": "37be43ca",
   "metadata": {},
   "outputs": [
    {
     "name": "stdout",
     "output_type": "stream",
     "text": [
      "5\n",
      "['pie', 'book', 'banana', 'Washington']\n"
     ]
    }
   ],
   "source": [
    "word = 'paper'\n",
    "print(len(word))\n",
    "\n",
    "words = ['banana', 'pie', 'Washington', 'book']\n",
    "print(sorted(words, key=len))"
   ]
  },
  {
   "cell_type": "code",
   "execution_count": 25,
   "id": "a56ca40c",
   "metadata": {},
   "outputs": [
    {
     "name": "stdout",
     "output_type": "stream",
     "text": [
      "['Mark', 'Suzy', 'al', 'harry']\n",
      "['al', 'harry', 'Mark', 'Suzy']\n"
     ]
    }
   ],
   "source": [
    "names_with_case = ['harry', 'Suzy', 'al', 'Mark']\n",
    "print(sorted(names_with_case))\n",
    "\n",
    "print(sorted(names_with_case, key=str.lower))"
   ]
  },
  {
   "cell_type": "code",
   "execution_count": 26,
   "id": "d85d6cc9",
   "metadata": {},
   "outputs": [
    {
     "name": "stdout",
     "output_type": "stream",
     "text": [
      "['banana', 'pie', 'book', 'Washington']\n"
     ]
    }
   ],
   "source": [
    "def reverse_word(word):\n",
    "    # The word[::-1] slice syntax is used to reverse a string\n",
    "    return word[::-1]\n",
    "\n",
    "words = ['banana', 'pie', 'Washington', 'book']\n",
    "print(sorted(words, key=reverse_word))"
   ]
  },
  {
   "cell_type": "code",
   "execution_count": 27,
   "id": "b18db148",
   "metadata": {},
   "outputs": [
    {
     "data": {
      "text/plain": [
       "['banana', 'pie', 'book', 'Washington']"
      ]
     },
     "execution_count": 27,
     "metadata": {},
     "output_type": "execute_result"
    }
   ],
   "source": [
    "words = ['banana', 'pie', 'Washington', 'book']\n",
    "\n",
    "sorted(words, key=lambda x: x[::-1])"
   ]
  },
  {
   "cell_type": "code",
   "execution_count": 28,
   "id": "91faeab8",
   "metadata": {},
   "outputs": [
    {
     "name": "stdout",
     "output_type": "stream",
     "text": [
      "['Washington', 'book', 'pie', 'banana']\n"
     ]
    }
   ],
   "source": [
    "words = ['banana', 'pie', 'Washington', 'book']\n",
    "print(sorted(words, key=lambda x: x[::-1], reverse=True))"
   ]
  },
  {
   "cell_type": "code",
   "execution_count": null,
   "id": "9d3a68dd",
   "metadata": {},
   "outputs": [],
   "source": []
  }
 ],
 "metadata": {
  "kernelspec": {
   "display_name": "Python 3",
   "language": "python",
   "name": "python3"
  },
  "language_info": {
   "codemirror_mode": {
    "name": "ipython",
    "version": 3
   },
   "file_extension": ".py",
   "mimetype": "text/x-python",
   "name": "python",
   "nbconvert_exporter": "python",
   "pygments_lexer": "ipython3",
   "version": "3.8.8"
  }
 },
 "nbformat": 4,
 "nbformat_minor": 5
}
