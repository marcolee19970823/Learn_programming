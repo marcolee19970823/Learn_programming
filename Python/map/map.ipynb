{
 "cells": [
  {
   "cell_type": "markdown",
   "id": "99db6964",
   "metadata": {},
   "source": [
    "https://www.digitalocean.com/community/tutorials/how-to-use-the-python-map-function"
   ]
  },
  {
   "cell_type": "code",
   "execution_count": 2,
   "id": "c6ce638c",
   "metadata": {},
   "outputs": [
    {
     "data": {
      "text/plain": [
       "[23, 33, 45, 69, 87, 113]"
      ]
     },
     "execution_count": 2,
     "metadata": {},
     "output_type": "execute_result"
    }
   ],
   "source": [
    "numbers = [10, 15, 21, 33, 42, 55]\n",
    "\n",
    "mapped_numbers = list(map(lambda x: x * 2 + 3, numbers))\n",
    "mapped_numbers"
   ]
  },
  {
   "cell_type": "code",
   "execution_count": 4,
   "id": "b077cbf0",
   "metadata": {},
   "outputs": [],
   "source": [
    "base_numbers = [2, 4, 6, 8, 10]\n",
    "powers = [1, 2, 3, 4, 5]"
   ]
  },
  {
   "cell_type": "code",
   "execution_count": 5,
   "id": "785a2507",
   "metadata": {},
   "outputs": [
    {
     "name": "stdout",
     "output_type": "stream",
     "text": [
      "[2, 16, 216, 4096, 100000]\n"
     ]
    }
   ],
   "source": [
    "numbers_powers = list(map(pow, base_numbers, powers))\n",
    "print(numbers_powers)"
   ]
  },
  {
   "cell_type": "markdown",
   "id": "b2320b7f",
   "metadata": {},
   "source": [
    "https://www.geeksforgeeks.org/python-map-function/"
   ]
  },
  {
   "cell_type": "code",
   "execution_count": 6,
   "id": "ddb3d037",
   "metadata": {},
   "outputs": [
    {
     "name": "stdout",
     "output_type": "stream",
     "text": [
      "[2, 4, 6, 8]\n"
     ]
    }
   ],
   "source": [
    "# Python program to demonstrate working\n",
    "# of map.\n",
    "  \n",
    "# Return double of n\n",
    "def addition(n):\n",
    "    return n + n\n",
    "\n",
    "# We double all numbers using map()\n",
    "numbers = (1, 2, 3, 4)\n",
    "result = map(addition, numbers)\n",
    "print(list(result))"
   ]
  },
  {
   "cell_type": "code",
   "execution_count": 7,
   "id": "cff99073",
   "metadata": {},
   "outputs": [
    {
     "name": "stdout",
     "output_type": "stream",
     "text": [
      "[2, 4, 6, 8]\n"
     ]
    }
   ],
   "source": [
    "# Double all numbers using map and lambda\n",
    "  \n",
    "numbers = (1, 2, 3, 4)\n",
    "result = map(lambda x: x + x, numbers)\n",
    "print(list(result))"
   ]
  },
  {
   "cell_type": "code",
   "execution_count": 8,
   "id": "475ce17a",
   "metadata": {},
   "outputs": [
    {
     "name": "stdout",
     "output_type": "stream",
     "text": [
      "[5, 7, 9]\n"
     ]
    }
   ],
   "source": [
    "# Add two lists using map and lambda\n",
    "  \n",
    "numbers1 = [1, 2, 3]\n",
    "numbers2 = [4, 5, 6]\n",
    "  \n",
    "result = map(lambda x, y: x + y, numbers1, numbers2)\n",
    "print(list(result))"
   ]
  },
  {
   "cell_type": "code",
   "execution_count": 9,
   "id": "38617b79",
   "metadata": {},
   "outputs": [
    {
     "name": "stdout",
     "output_type": "stream",
     "text": [
      "[['s', 'a', 't'], ['b', 'a', 't'], ['c', 'a', 't'], ['m', 'a', 't']]\n"
     ]
    }
   ],
   "source": [
    "# List of strings\n",
    "l = ['sat', 'bat', 'cat', 'mat']\n",
    "  \n",
    "# map() can listify the list of strings individually\n",
    "test = list(map(list, l))\n",
    "print(test)"
   ]
  },
  {
   "cell_type": "markdown",
   "id": "466ec71b",
   "metadata": {},
   "source": [
    "https://realpython.com/python-map-function/\n",
    "\n",
    "Python's map(): Processing Iterables Without a Loop"
   ]
  },
  {
   "cell_type": "code",
   "execution_count": 10,
   "id": "f3e02b6d",
   "metadata": {},
   "outputs": [
    {
     "data": {
      "text/plain": [
       "[1, 4, 9, 16, 25]"
      ]
     },
     "execution_count": 10,
     "metadata": {},
     "output_type": "execute_result"
    }
   ],
   "source": [
    "numbers = [1, 2, 3, 4, 5]\n",
    "squared = []\n",
    "\n",
    "for num in numbers:\n",
    "    squared.append(num ** 2)\n",
    "\n",
    "squared"
   ]
  },
  {
   "cell_type": "code",
   "execution_count": 11,
   "id": "c3ce83f4",
   "metadata": {},
   "outputs": [
    {
     "data": {
      "text/plain": [
       "[1, 4, 9, 16, 25]"
      ]
     },
     "execution_count": 11,
     "metadata": {},
     "output_type": "execute_result"
    }
   ],
   "source": [
    "def square(number):\n",
    "    return number ** 2\n",
    "\n",
    "\n",
    "numbers = [1, 2, 3, 4, 5]\n",
    "\n",
    "squared = map(square, numbers)\n",
    "\n",
    "list(squared)"
   ]
  },
  {
   "cell_type": "code",
   "execution_count": 13,
   "id": "31445daf",
   "metadata": {},
   "outputs": [
    {
     "name": "stdout",
     "output_type": "stream",
     "text": [
      "<map object at 0x000001D3E220A3A0>\n",
      "[4, 8, 6, 5, 3, 2, 8, 9, 2, 5]\n",
      "['4', '8', '6', '5', '3', '2', '8', '9', '2', '5']\n"
     ]
    }
   ],
   "source": [
    "str_nums = [\"4\", \"8\", \"6\", \"5\", \"3\", \"2\", \"8\", \"9\", \"2\", \"5\"]\n",
    "\n",
    "int_nums = map(int, str_nums)\n",
    "\n",
    "print(int_nums)\n",
    "print(list(int_nums))\n",
    "print(str_nums)"
   ]
  },
  {
   "cell_type": "code",
   "execution_count": 14,
   "id": "ed73d627",
   "metadata": {},
   "outputs": [
    {
     "name": "stdout",
     "output_type": "stream",
     "text": [
      "[2, 1, 0, 1, 2]\n",
      "[-2.0, -1.0, 0.0, 1.0, 2.0]\n",
      "[7, 2, 4, 6]\n"
     ]
    }
   ],
   "source": [
    "numbers = [-2, -1, 0, 1, 2]\n",
    "\n",
    "abs_values = list(map(abs, numbers))\n",
    "print(abs_values)\n",
    "\n",
    "print(list(map(float, numbers)))\n",
    "\n",
    "words = [\"Welcome\", \"to\", \"Real\", \"Python\"]\n",
    "print(list(map(len, words)))"
   ]
  },
  {
   "cell_type": "code",
   "execution_count": 15,
   "id": "0f5e79c3",
   "metadata": {},
   "outputs": [
    {
     "name": "stdout",
     "output_type": "stream",
     "text": [
      "[1, 4, 9, 16, 25]\n"
     ]
    }
   ],
   "source": [
    "numbers = [1, 2, 3, 4, 5]\n",
    "squared = map(lambda num: num ** 2, numbers)\n",
    "print(list(squared))"
   ]
  },
  {
   "cell_type": "code",
   "execution_count": 16,
   "id": "3a3d2a9e",
   "metadata": {},
   "outputs": [
    {
     "name": "stdout",
     "output_type": "stream",
     "text": [
      "[1, 32, 729]\n"
     ]
    }
   ],
   "source": [
    "first_it = [1, 2, 3]\n",
    "second_it = [4, 5, 6, 7]\n",
    "\n",
    "print(list(map(pow, first_it, second_it)))"
   ]
  },
  {
   "cell_type": "code",
   "execution_count": 17,
   "id": "4a76bec3",
   "metadata": {},
   "outputs": [
    {
     "name": "stdout",
     "output_type": "stream",
     "text": [
      "[1, 1, 1]\n",
      "[10, 15]\n"
     ]
    }
   ],
   "source": [
    "print(list(map(lambda x, y: x - y, [2, 4, 6], [1, 3, 5])))\n",
    "print(list(map(lambda x, y, z: x + y + z, [2, 4], [1, 3], [7, 8])))"
   ]
  },
  {
   "cell_type": "code",
   "execution_count": null,
   "id": "dc5c6f18",
   "metadata": {},
   "outputs": [],
   "source": []
  },
  {
   "cell_type": "code",
   "execution_count": null,
   "id": "f209458e",
   "metadata": {},
   "outputs": [],
   "source": []
  }
 ],
 "metadata": {
  "kernelspec": {
   "display_name": "Python 3",
   "language": "python",
   "name": "python3"
  },
  "language_info": {
   "codemirror_mode": {
    "name": "ipython",
    "version": 3
   },
   "file_extension": ".py",
   "mimetype": "text/x-python",
   "name": "python",
   "nbconvert_exporter": "python",
   "pygments_lexer": "ipython3",
   "version": "3.8.8"
  }
 },
 "nbformat": 4,
 "nbformat_minor": 5
}
